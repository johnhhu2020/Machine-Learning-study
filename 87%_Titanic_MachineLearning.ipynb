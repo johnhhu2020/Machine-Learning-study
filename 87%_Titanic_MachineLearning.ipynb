{
 "cells": [
  {
   "cell_type": "code",
   "execution_count": 1,
   "id": "designing-technician",
   "metadata": {},
   "outputs": [],
   "source": [
    "###reference:\n",
    "    ###https://towardsdatascience.com/machine-learning-with-the-titanic-dataset-7f6909e58280\n",
    "\n",
    "\n",
    "def concat_df(train_data,test_data):\n",
    "    return pd.concat([train_data,test_data],sort=True).reset_index(drop=True)\n",
    "\n",
    "def divide_df(all_data):\n",
    "    return all_data.loc[:890],all_data.loc[891:].drop(['Survived'],axis=1)"
   ]
  },
  {
   "cell_type": "code",
   "execution_count": 2,
   "id": "soviet-carry",
   "metadata": {},
   "outputs": [],
   "source": [
    "import pandas as pd\n",
    "\n",
    "train_data=pd.read_csv(\"train.csv\")\n",
    "test_data=pd.read_csv(\"test.csv\")\n",
    "\n",
    "###JHU not necessary code???\n",
    "#df_all=concat_df(train_data,test_data)\n",
    "\n",
    "###JHU not necessary code???\n",
    "#dfs=[train_data,test_data]"
   ]
  },
  {
   "cell_type": "code",
   "execution_count": 3,
   "id": "vocal-exercise",
   "metadata": {},
   "outputs": [
    {
     "name": "stdout",
     "output_type": "stream",
     "text": [
      "train_data_contains: 891 row and 12 columns\n",
      "test_data_contains: 418 row and 11 columns\n"
     ]
    }
   ],
   "source": [
    "print(\"train_data_contains: \"+str(len(train_data))+\" row and \"+str(len(train_data.columns))+\" columns\")\n",
    "print(\"test_data_contains: \"+str(len(test_data))+\" row and \"+str(len(test_data.columns))+\" columns\")"
   ]
  },
  {
   "cell_type": "code",
   "execution_count": 4,
   "id": "south-curve",
   "metadata": {},
   "outputs": [
    {
     "name": "stdout",
     "output_type": "stream",
     "text": [
      "train_data.shape\n"
     ]
    },
    {
     "data": {
      "text/plain": [
       "(891, 12)"
      ]
     },
     "metadata": {},
     "output_type": "display_data"
    },
    {
     "name": "stdout",
     "output_type": "stream",
     "text": [
      "test_data.shape\n"
     ]
    },
    {
     "data": {
      "text/plain": [
       "(418, 11)"
      ]
     },
     "metadata": {},
     "output_type": "display_data"
    }
   ],
   "source": [
    "###JHU use simple code to do the same thing to avoid potential errors\n",
    "###JHU and focus on your analysical logical, to do an exploratory aalysis\n",
    "###JHU not just to follow they footsetps. logical\n",
    "\n",
    "print(\"train_data.shape\")\n",
    "display(train_data.shape)\n",
    "\n",
    "print(\"test_data.shape\")\n",
    "display(test_data.shape)"
   ]
  },
  {
   "cell_type": "code",
   "execution_count": 5,
   "id": "decreased-providence",
   "metadata": {},
   "outputs": [
    {
     "name": "stdout",
     "output_type": "stream",
     "text": [
      "first_3_row_of_train_data\n"
     ]
    },
    {
     "data": {
      "text/html": [
       "<div>\n",
       "<style scoped>\n",
       "    .dataframe tbody tr th:only-of-type {\n",
       "        vertical-align: middle;\n",
       "    }\n",
       "\n",
       "    .dataframe tbody tr th {\n",
       "        vertical-align: top;\n",
       "    }\n",
       "\n",
       "    .dataframe thead th {\n",
       "        text-align: right;\n",
       "    }\n",
       "</style>\n",
       "<table border=\"1\" class=\"dataframe\">\n",
       "  <thead>\n",
       "    <tr style=\"text-align: right;\">\n",
       "      <th></th>\n",
       "      <th>PassengerId</th>\n",
       "      <th>Survived</th>\n",
       "      <th>Pclass</th>\n",
       "      <th>Name</th>\n",
       "      <th>Sex</th>\n",
       "      <th>Age</th>\n",
       "      <th>SibSp</th>\n",
       "      <th>Parch</th>\n",
       "      <th>Ticket</th>\n",
       "      <th>Fare</th>\n",
       "      <th>Cabin</th>\n",
       "      <th>Embarked</th>\n",
       "    </tr>\n",
       "  </thead>\n",
       "  <tbody>\n",
       "    <tr>\n",
       "      <th>0</th>\n",
       "      <td>1</td>\n",
       "      <td>0</td>\n",
       "      <td>3</td>\n",
       "      <td>Braund, Mr. Owen Harris</td>\n",
       "      <td>male</td>\n",
       "      <td>22.0</td>\n",
       "      <td>1</td>\n",
       "      <td>0</td>\n",
       "      <td>A/5 21171</td>\n",
       "      <td>7.25</td>\n",
       "      <td>NaN</td>\n",
       "      <td>S</td>\n",
       "    </tr>\n",
       "  </tbody>\n",
       "</table>\n",
       "</div>"
      ],
      "text/plain": [
       "   PassengerId  Survived  Pclass                     Name   Sex   Age  SibSp  \\\n",
       "0            1         0       3  Braund, Mr. Owen Harris  male  22.0      1   \n",
       "\n",
       "   Parch     Ticket  Fare Cabin Embarked  \n",
       "0      0  A/5 21171  7.25   NaN        S  "
      ]
     },
     "metadata": {},
     "output_type": "display_data"
    },
    {
     "name": "stdout",
     "output_type": "stream",
     "text": [
      "first_3_row_of_test_data\n"
     ]
    },
    {
     "data": {
      "text/html": [
       "<div>\n",
       "<style scoped>\n",
       "    .dataframe tbody tr th:only-of-type {\n",
       "        vertical-align: middle;\n",
       "    }\n",
       "\n",
       "    .dataframe tbody tr th {\n",
       "        vertical-align: top;\n",
       "    }\n",
       "\n",
       "    .dataframe thead th {\n",
       "        text-align: right;\n",
       "    }\n",
       "</style>\n",
       "<table border=\"1\" class=\"dataframe\">\n",
       "  <thead>\n",
       "    <tr style=\"text-align: right;\">\n",
       "      <th></th>\n",
       "      <th>PassengerId</th>\n",
       "      <th>Pclass</th>\n",
       "      <th>Name</th>\n",
       "      <th>Sex</th>\n",
       "      <th>Age</th>\n",
       "      <th>SibSp</th>\n",
       "      <th>Parch</th>\n",
       "      <th>Ticket</th>\n",
       "      <th>Fare</th>\n",
       "      <th>Cabin</th>\n",
       "      <th>Embarked</th>\n",
       "    </tr>\n",
       "  </thead>\n",
       "  <tbody>\n",
       "    <tr>\n",
       "      <th>0</th>\n",
       "      <td>892</td>\n",
       "      <td>3</td>\n",
       "      <td>Kelly, Mr. James</td>\n",
       "      <td>male</td>\n",
       "      <td>34.5</td>\n",
       "      <td>0</td>\n",
       "      <td>0</td>\n",
       "      <td>330911</td>\n",
       "      <td>7.8292</td>\n",
       "      <td>NaN</td>\n",
       "      <td>Q</td>\n",
       "    </tr>\n",
       "  </tbody>\n",
       "</table>\n",
       "</div>"
      ],
      "text/plain": [
       "   PassengerId  Pclass              Name   Sex   Age  SibSp  Parch  Ticket  \\\n",
       "0          892       3  Kelly, Mr. James  male  34.5      0      0  330911   \n",
       "\n",
       "     Fare Cabin Embarked  \n",
       "0  7.8292   NaN        Q  "
      ]
     },
     "metadata": {},
     "output_type": "display_data"
    }
   ],
   "source": [
    "print(\"first_3_row_of_train_data\")\n",
    "display(train_data.head(1))\n",
    "print(\"first_3_row_of_test_data\")\n",
    "display(test_data.head(1))"
   ]
  },
  {
   "cell_type": "code",
   "execution_count": 6,
   "id": "closing-energy",
   "metadata": {},
   "outputs": [
    {
     "name": "stdout",
     "output_type": "stream",
     "text": [
      "missing_values_in_train_data\n"
     ]
    },
    {
     "data": {
      "text/plain": [
       "PassengerId      0\n",
       "Survived         0\n",
       "Pclass           0\n",
       "Name             0\n",
       "Sex              0\n",
       "Age            177\n",
       "SibSp            0\n",
       "Parch            0\n",
       "Ticket           0\n",
       "Fare             0\n",
       "Cabin          687\n",
       "Embarked         2\n",
       "dtype: int64"
      ]
     },
     "metadata": {},
     "output_type": "display_data"
    },
    {
     "name": "stdout",
     "output_type": "stream",
     "text": [
      "missing_value_in_test_data\n"
     ]
    },
    {
     "data": {
      "text/plain": [
       "PassengerId      0\n",
       "Pclass           0\n",
       "Name             0\n",
       "Sex              0\n",
       "Age             86\n",
       "SibSp            0\n",
       "Parch            0\n",
       "Ticket           0\n",
       "Fare             1\n",
       "Cabin          327\n",
       "Embarked         0\n",
       "dtype: int64"
      ]
     },
     "metadata": {},
     "output_type": "display_data"
    }
   ],
   "source": [
    "###JHU first we take a look at our data, df.shape and then\n",
    "###JHU we trying to fillin the nulls, data preparing process\n",
    "\n",
    "print(\"missing_values_in_train_data\")\n",
    "display(train_data.isnull().sum())\n",
    "print(\"missing_value_in_test_data\")\n",
    "display(test_data.isnull().sum())"
   ]
  },
  {
   "cell_type": "code",
   "execution_count": 7,
   "id": "referenced-stamp",
   "metadata": {},
   "outputs": [],
   "source": [
    "df_all=concat_df(train_data,test_data)\n"
   ]
  },
  {
   "cell_type": "code",
   "execution_count": 8,
   "id": "auburn-passage",
   "metadata": {},
   "outputs": [],
   "source": [
    "#### 2 data cleansing \n",
    "### 2.1 Age\n"
   ]
  },
  {
   "cell_type": "code",
   "execution_count": 9,
   "id": "divine-complement",
   "metadata": {},
   "outputs": [
    {
     "name": "stdout",
     "output_type": "stream",
     "text": [
      "missing_age_values_in_total_data_set: 263\n",
      "missing_percentage: 20.0 %\n"
     ]
    }
   ],
   "source": [
    "print(\"missing_age_values_in_total_data_set: \"+str(df_all['Age'].isnull().sum()))\n",
    "print(\"missing_percentage: \"+str(round(df_all['Age'].isnull().sum()/len(df_all)*100,0))+\" %\")"
   ]
  },
  {
   "cell_type": "code",
   "execution_count": 10,
   "id": "negative-silence",
   "metadata": {},
   "outputs": [
    {
     "data": {
      "text/plain": [
       "<AxesSubplot:ylabel='Frequency'>"
      ]
     },
     "execution_count": 10,
     "metadata": {},
     "output_type": "execute_result"
    },
    {
     "data": {
      "image/png": "[encoded data removed]",
      "text/plain": [
       "<Figure size 432x288 with 1 Axes>"
      ]
     },
     "metadata": {
      "needs_background": "light"
     },
     "output_type": "display_data"
    }
   ],
   "source": [
    "###JHU\n",
    "import seaborn as sb\n",
    "\n",
    "train_data['Age'].plot.hist(alpha=0.4)\n",
    "\n",
    "###JHU we can see a un-normal distribution, since we lost many Age values\n",
    "###JHU does that affect our job? should we fillin more young aged data???"
   ]
  },
  {
   "cell_type": "code",
   "execution_count": 11,
   "id": "global-testing",
   "metadata": {},
   "outputs": [
    {
     "data": {
      "text/plain": [
       "<AxesSubplot:ylabel='Frequency'>"
      ]
     },
     "execution_count": 11,
     "metadata": {},
     "output_type": "execute_result"
    },
    {
     "data": {
      "image/png": "[encoded data removed]",
      "text/plain": [
       "<Figure size 432x288 with 1 Axes>"
      ]
     },
     "metadata": {
      "needs_background": "light"
     },
     "output_type": "display_data"
    }
   ],
   "source": [
    "###JHU\n",
    "train_data.pivot(columns='Pclass').Age.plot(kind='hist',stacked=True,alpha=0.4)"
   ]
  },
  {
   "cell_type": "code",
   "execution_count": 12,
   "id": "approved-batch",
   "metadata": {},
   "outputs": [
    {
     "data": {
      "text/plain": [
       "Pclass\n",
       "1    AxesSubplot(0.125,0.125;0.775x0.755)\n",
       "2    AxesSubplot(0.125,0.125;0.775x0.755)\n",
       "3    AxesSubplot(0.125,0.125;0.775x0.755)\n",
       "Name: Age, dtype: object"
      ]
     },
     "execution_count": 12,
     "metadata": {},
     "output_type": "execute_result"
    },
    {
     "data": {
      "image/png": "[encoded data removed]",
      "text/plain": [
       "<Figure size 432x288 with 1 Axes>"
      ]
     },
     "metadata": {
      "needs_background": "light"
     },
     "output_type": "display_data"
    }
   ],
   "source": [
    "###JHU\n",
    "train_data.groupby(['Pclass'])['Age'].plot.hist(alpha=0.4,stacked=True,legend=True)\n"
   ]
  },
  {
   "cell_type": "code",
   "execution_count": 13,
   "id": "immediate-forestry",
   "metadata": {},
   "outputs": [
    {
     "data": {
      "text/plain": [
       "<AxesSubplot:xlabel='Age', ylabel='Count'>"
      ]
     },
     "execution_count": 13,
     "metadata": {},
     "output_type": "execute_result"
    },
    {
     "data": {
      "image/png": "[encoded data removed]",
      "text/plain": [
       "<Figure size 432x288 with 1 Axes>"
      ]
     },
     "metadata": {
      "needs_background": "light"
     },
     "output_type": "display_data"
    }
   ],
   "source": [
    "###JHU\n",
    "\n",
    "sb.histplot(data=train_data,x=\"Age\",hue=\"Pclass\",multiple=\"stack\",alpha=0.4)"
   ]
  },
  {
   "cell_type": "code",
   "execution_count": 14,
   "id": "comparative-illustration",
   "metadata": {},
   "outputs": [
    {
     "name": "stdout",
     "output_type": "stream",
     "text": [
      "median_for_Age_seperated_by_Pclass:\n"
     ]
    },
    {
     "data": {
      "text/plain": [
       "Pclass\n",
       "1    37.0\n",
       "2    29.0\n",
       "3    24.0\n",
       "Name: Age, dtype: float64"
      ]
     },
     "metadata": {},
     "output_type": "display_data"
    },
    {
     "name": "stdout",
     "output_type": "stream",
     "text": [
      "median_for_Age_seperated_by_Pclass_and_Sex:\n"
     ]
    },
    {
     "data": {
      "text/plain": [
       "Pclass  Sex   \n",
       "1       female    35.0\n",
       "        male      40.0\n",
       "2       female    28.0\n",
       "        male      30.0\n",
       "3       female    21.5\n",
       "        male      25.0\n",
       "Name: Age, dtype: float64"
      ]
     },
     "metadata": {},
     "output_type": "display_data"
    },
    {
     "name": "stdout",
     "output_type": "stream",
     "text": [
      "bumber_of_cases:\n"
     ]
    },
    {
     "data": {
      "text/plain": [
       "Pclass  Sex   \n",
       "1       female     85\n",
       "        male      101\n",
       "2       female     74\n",
       "        male       99\n",
       "3       female    102\n",
       "        male      253\n",
       "Name: Age, dtype: int64"
      ]
     },
     "metadata": {},
     "output_type": "display_data"
    }
   ],
   "source": [
    "print('median_for_Age_seperated_by_Pclass:')\n",
    "display(train_data.groupby('Pclass')['Age'].median())\n",
    "\n",
    "print('median_for_Age_seperated_by_Pclass_and_Sex:')\n",
    "display(train_data.groupby(['Pclass','Sex'])['Age'].median())\n",
    "\n",
    "print('bumber_of_cases:')\n",
    "display(train_data.groupby(['Pclass','Sex'])['Age'].count())     #not value_counts"
   ]
  },
  {
   "cell_type": "code",
   "execution_count": 15,
   "id": "functional-composite",
   "metadata": {},
   "outputs": [
    {
     "data": {
      "text/html": [
       "<div>\n",
       "<style scoped>\n",
       "    .dataframe tbody tr th:only-of-type {\n",
       "        vertical-align: middle;\n",
       "    }\n",
       "\n",
       "    .dataframe tbody tr th {\n",
       "        vertical-align: top;\n",
       "    }\n",
       "\n",
       "    .dataframe thead th {\n",
       "        text-align: right;\n",
       "    }\n",
       "</style>\n",
       "<table border=\"1\" class=\"dataframe\">\n",
       "  <thead>\n",
       "    <tr style=\"text-align: right;\">\n",
       "      <th></th>\n",
       "      <th>Age</th>\n",
       "      <th>Cabin</th>\n",
       "      <th>Embarked</th>\n",
       "      <th>Fare</th>\n",
       "      <th>Name</th>\n",
       "      <th>Parch</th>\n",
       "      <th>PassengerId</th>\n",
       "      <th>Pclass</th>\n",
       "      <th>Sex</th>\n",
       "      <th>SibSp</th>\n",
       "      <th>Survived</th>\n",
       "      <th>Ticket</th>\n",
       "    </tr>\n",
       "  </thead>\n",
       "  <tbody>\n",
       "    <tr>\n",
       "      <th>802</th>\n",
       "      <td>11.0</td>\n",
       "      <td>B96 B98</td>\n",
       "      <td>S</td>\n",
       "      <td>120.0</td>\n",
       "      <td>Carter, Master. William Thornton II</td>\n",
       "      <td>2</td>\n",
       "      <td>803</td>\n",
       "      <td>1</td>\n",
       "      <td>male</td>\n",
       "      <td>1</td>\n",
       "      <td>1.0</td>\n",
       "      <td>113760</td>\n",
       "    </tr>\n",
       "  </tbody>\n",
       "</table>\n",
       "</div>"
      ],
      "text/plain": [
       "      Age    Cabin Embarked   Fare                                 Name  \\\n",
       "802  11.0  B96 B98        S  120.0  Carter, Master. William Thornton II   \n",
       "\n",
       "     Parch  PassengerId  Pclass   Sex  SibSp  Survived  Ticket  \n",
       "802      2          803       1  male      1       1.0  113760  "
      ]
     },
     "execution_count": 15,
     "metadata": {},
     "output_type": "execute_result"
    }
   ],
   "source": [
    "#replace the missing value with the medians of each group\n",
    "###JHU learn the way to fill the null values in the dataset###\n",
    "\n",
    "df_all['Age']=df_all.groupby(['Pclass','Sex'])['Age'].apply(lambda x:x.fillna(x.median()))\n",
    "df_all.sample(1)\n"
   ]
  },
  {
   "cell_type": "code",
   "execution_count": 16,
   "id": "decreased-forest",
   "metadata": {},
   "outputs": [],
   "source": [
    "#### 2 data cleansing \n",
    "### 2.2 Fare\n"
   ]
  },
  {
   "cell_type": "code",
   "execution_count": 17,
   "id": "controlling-fossil",
   "metadata": {},
   "outputs": [
    {
     "data": {
      "text/html": [
       "<div>\n",
       "<style scoped>\n",
       "    .dataframe tbody tr th:only-of-type {\n",
       "        vertical-align: middle;\n",
       "    }\n",
       "\n",
       "    .dataframe tbody tr th {\n",
       "        vertical-align: top;\n",
       "    }\n",
       "\n",
       "    .dataframe thead th {\n",
       "        text-align: right;\n",
       "    }\n",
       "</style>\n",
       "<table border=\"1\" class=\"dataframe\">\n",
       "  <thead>\n",
       "    <tr style=\"text-align: right;\">\n",
       "      <th></th>\n",
       "      <th>Age</th>\n",
       "      <th>Cabin</th>\n",
       "      <th>Embarked</th>\n",
       "      <th>Fare</th>\n",
       "      <th>Name</th>\n",
       "      <th>Parch</th>\n",
       "      <th>PassengerId</th>\n",
       "      <th>Pclass</th>\n",
       "      <th>Sex</th>\n",
       "      <th>SibSp</th>\n",
       "      <th>Survived</th>\n",
       "      <th>Ticket</th>\n",
       "    </tr>\n",
       "  </thead>\n",
       "  <tbody>\n",
       "    <tr>\n",
       "      <th>1043</th>\n",
       "      <td>60.5</td>\n",
       "      <td>NaN</td>\n",
       "      <td>S</td>\n",
       "      <td>NaN</td>\n",
       "      <td>Storey, Mr. Thomas</td>\n",
       "      <td>0</td>\n",
       "      <td>1044</td>\n",
       "      <td>3</td>\n",
       "      <td>male</td>\n",
       "      <td>0</td>\n",
       "      <td>NaN</td>\n",
       "      <td>3701</td>\n",
       "    </tr>\n",
       "  </tbody>\n",
       "</table>\n",
       "</div>"
      ],
      "text/plain": [
       "       Age Cabin Embarked  Fare                Name  Parch  PassengerId  \\\n",
       "1043  60.5   NaN        S   NaN  Storey, Mr. Thomas      0         1044   \n",
       "\n",
       "      Pclass   Sex  SibSp  Survived Ticket  \n",
       "1043       3  male      0       NaN   3701  "
      ]
     },
     "execution_count": 17,
     "metadata": {},
     "output_type": "execute_result"
    }
   ],
   "source": [
    "df_all.loc[df_all['Fare'].isnull()]"
   ]
  },
  {
   "cell_type": "code",
   "execution_count": 18,
   "id": "continued-liquid",
   "metadata": {},
   "outputs": [
    {
     "name": "stdout",
     "output_type": "stream",
     "text": [
      "7.925\n"
     ]
    }
   ],
   "source": [
    "#loc cases which are similiar to Mr.Thomas and use the median of fare to replace the missing for his data set\n",
    "mr_thomas=df_all.loc[(df_all['Pclass']==3)&(df_all['SibSp']==0)&(df_all['Embarked']=='S')]['Fare'].median()       ################################################################\n",
    "print(mr_thomas)\n",
    "\n",
    "#\n",
    "df_all.loc[df_all['Fare'].isnull(),'Fare']=mr_thomas\n",
    "\n",
    "###JHU anywany we can wrote it more simple?"
   ]
  },
  {
   "cell_type": "code",
   "execution_count": 19,
   "id": "boolean-alliance",
   "metadata": {},
   "outputs": [],
   "source": [
    "#### 2 data cleansing \n",
    "### 2.3 Cabin\n"
   ]
  },
  {
   "cell_type": "code",
   "execution_count": 20,
   "id": "advisory-atlas",
   "metadata": {},
   "outputs": [
    {
     "data": {
      "text/plain": [
       "array([nan, 'C85', 'C123', 'E46', 'G6', 'C103', 'D56', 'A6',\n",
       "       'C23 C25 C27', 'B78', 'D33', 'B30', 'C52', 'B28', 'C83', 'F33',\n",
       "       'F G73', 'E31', 'A5', 'D10 D12', 'D26', 'C110', 'B58 B60', 'E101',\n",
       "       'F E69', 'D47', 'B86', 'F2', 'C2', 'E33', 'B19', 'A7', 'C49', 'F4',\n",
       "       'A32', 'B4', 'B80', 'A31', 'D36', 'D15', 'C93', 'C78', 'D35',\n",
       "       'C87', 'B77', 'E67', 'B94', 'C125', 'C99', 'C118', 'D7', 'A19',\n",
       "       'B49', 'D', 'C22 C26', 'C106', 'C65', 'E36', 'C54',\n",
       "       'B57 B59 B63 B66', 'C7', 'E34', 'C32', 'B18', 'C124', 'C91', 'E40',\n",
       "       'T', 'C128', 'D37', 'B35', 'E50', 'C82', 'B96 B98', 'E10', 'E44',\n",
       "       'A34', 'C104', 'C111', 'C92', 'E38', 'D21', 'E12', 'E63', 'A14',\n",
       "       'B37', 'C30', 'D20', 'B79', 'E25', 'D46', 'B73', 'C95', 'B38',\n",
       "       'B39', 'B22', 'C86', 'C70', 'A16', 'C101', 'C68', 'A10', 'E68',\n",
       "       'B41', 'A20', 'D19', 'D50', 'D9', 'A23', 'B50', 'A26', 'D48',\n",
       "       'E58', 'C126', 'B71', 'B51 B53 B55', 'D49', 'B5', 'B20', 'F G63',\n",
       "       'C62 C64', 'E24', 'C90', 'C45', 'E8', 'B101', 'D45', 'C46', 'D30',\n",
       "       'E121', 'D11', 'E77', 'F38', 'B3', 'D6', 'B82 B84', 'D17', 'A36',\n",
       "       'B102', 'B69', 'E49', 'C47', 'D28', 'E17', 'A24', 'C50', 'B42',\n",
       "       'C148'], dtype=object)"
      ]
     },
     "metadata": {},
     "output_type": "display_data"
    },
    {
     "name": "stdout",
     "output_type": "stream",
     "text": [
      "there_are 147 different_values_for_Cabin_and 687 cases_are_missing\n"
     ]
    }
   ],
   "source": [
    "display(train_data['Cabin'].unique())\n",
    "print('there_are '+str(train_data['Cabin'].nunique())+' different_values_for_Cabin_and ' +str(train_data['Cabin'].isnull().sum())+' cases_are_missing')"
   ]
  },
  {
   "cell_type": "code",
   "execution_count": 21,
   "id": "accompanied-horse",
   "metadata": {},
   "outputs": [],
   "source": [
    "\n",
    "##print(train_data[train_data['Cabin'].isnull()])\n",
    "#Then for removing all non-numeric values use to_numeric with parameter errors='coerce' - to replace non-numeric values to NaNs:\n",
    "##train_data['Cabin'] = pd.to_numeric(train_data['Cabin'], errors='coerce')\n",
    "#And for remove all rows with NaNs in column x use dropna:\n",
    "##train_data = train_data.dropna(subset=['Cabin'])\n",
    "#Last convert values to ints:\n",
    "##train_data['Cabin'] = train_data['Cabin'].astype(int)\n",
    "\n",
    "\n",
    "#for dataset in df_all:\n",
    "    #dataset['Cabin'] = dataset['Cabin'].astype('int').str.slice(0,1)\n",
    "    #dataset['Cabin']=dataset['Cabin'].apply(lambda s:s[0] if pd.notnull(s) else s).astype(int)\n",
    "#str.slice(0,1)\n",
    "#df['purchase'].astype(str).astype(int)\n",
    "\n",
    "#df_all['Cabin']=df_all.groupby(['Pclass','Fare'])['Cabin'].apply(lambda s:s[0] if pd.notnull(s) else s)\n",
    "\n",
    "\n",
    "#train_data.Cabin = train_data.Cabin.astype(int) \n",
    "#train_data.info()\n"
   ]
  },
  {
   "cell_type": "code",
   "execution_count": 22,
   "id": "preliminary-johnston",
   "metadata": {},
   "outputs": [
    {
     "name": "stdout",
     "output_type": "stream",
     "text": [
      "      Age Cabin Embarked      Fare                        Name  Parch  \\\n",
      "557  42.0   NaN        C  227.5250         Robbins, Mr. Victor      0   \n",
      "47   22.0   NaN        Q    7.7500   O'Driscoll, Miss. Bridget      0   \n",
      "713  29.0   NaN        S    9.4833  Larsson, Mr. August Viktor      0   \n",
      "\n",
      "     PassengerId  Pclass     Sex  SibSp  Survived    Ticket Deck  \n",
      "557          558       1    male      0       0.0  PC 17757  NaN  \n",
      "47            48       3  female      0       1.0     14311  NaN  \n",
      "713          714       3    male      0       0.0      7545  NaN  \n"
     ]
    },
    {
     "data": {
      "text/plain": [
       "Text(0.5, 0.98, 'Count_for_different_Deck')"
      ]
     },
     "execution_count": 22,
     "metadata": {},
     "output_type": "execute_result"
    },
    {
     "data": {
      "image/png": "[encoded data removed]",
      "text/plain": [
       "<Figure size 432x288 with 1 Axes>"
      ]
     },
     "metadata": {
      "needs_background": "light"
     },
     "output_type": "display_data"
    }
   ],
   "source": [
    "#keep all first letters of Cabin in new variable and use \"M\" for each missing\n",
    "#####################################################################################################################################\n",
    "\n",
    "df_all['Deck']=df_all['Cabin'].apply(lambda s:s[0] if pd.notnull(s) else s)\n",
    "\n",
    "#df_all['Deck']=df_all['Cabin'].apply(lambda s:s[0] if pd.notnull(s) else df_all.groupby(['Pclass','Fare'])['Cabin'].median())\n",
    "#df_all['Deck']=df_all(['Pclass','Fare'])['Cabin'].apply(lambda s:s[0] if pd.notnull(s) else 'M')\n",
    "\n",
    "print(df_all.sample(3))     #####################################################\n",
    "import matplotlib.pyplot as pl\n",
    "\n",
    "df_all.groupby('Deck')['Survived'].count().plot(kind='bar')\n",
    "pl.suptitle('Count_for_different_Deck')\n",
    "\n",
    "\n",
    "#df_all[['Deck','Survived']].groupby('Deck')['Survived'].mean().plot(kind='bar')\n",
    "#pl.suptitle('Survival_rates_for_different_cabines')"
   ]
  },
  {
   "cell_type": "code",
   "execution_count": 23,
   "id": "addressed-shepherd",
   "metadata": {},
   "outputs": [
    {
     "data": {
      "text/plain": [
       "Text(0.5, 0.98, 'Survival_mean_for_different_Deck')"
      ]
     },
     "execution_count": 23,
     "metadata": {},
     "output_type": "execute_result"
    },
    {
     "data": {
      "image/png": "[encoded data removed]",
      "text/plain": [
       "<Figure size 432x288 with 1 Axes>"
      ]
     },
     "metadata": {
      "needs_background": "light"
     },
     "output_type": "display_data"
    }
   ],
   "source": [
    "df_all.groupby('Deck')['Survived'].mean().plot(kind='bar')\n",
    "pl.suptitle('Survival_mean_for_different_Deck')\n"
   ]
  },
  {
   "cell_type": "code",
   "execution_count": 24,
   "id": "architectural-cheat",
   "metadata": {},
   "outputs": [],
   "source": [
    "############################################################################################################################# cut Fare feature into sever bins\n",
    "#df_all_1=df_all\n",
    "#df_all_1['Fare']=pd.cut(df_all_1['Fare'],5,labels=[\"<102\",\"<204\",\"<307\",\"<409\",\"<512\"])\n",
    "\n",
    "#df_all_1['Fare'].value_counts()\n",
    "\n",
    "#df_all_1.groupby('Fare')['Survived'].count().plot(kind='bar')"
   ]
  },
  {
   "cell_type": "code",
   "execution_count": 25,
   "id": "married-radius",
   "metadata": {},
   "outputs": [
    {
     "data": {
      "text/plain": [
       "<AxesSubplot:>"
      ]
     },
     "execution_count": 25,
     "metadata": {},
     "output_type": "execute_result"
    },
    {
     "data": {
      "image/png": "[encoded data removed]",
      "text/plain": [
       "<Figure size 432x288 with 1 Axes>"
      ]
     },
     "metadata": {
      "needs_background": "light"
     },
     "output_type": "display_data"
    }
   ],
   "source": [
    "############################################################################################################################\n",
    "#df_all['Fare'] = df_all['Fare'].astype(str)\n",
    "df_all.boxplot(column=['Fare'])   ###,figsize=(15,7))\n"
   ]
  },
  {
   "cell_type": "code",
   "execution_count": 26,
   "id": "sexual-coating",
   "metadata": {},
   "outputs": [
    {
     "data": {
      "text/plain": [
       "Pclass  Fare  \n",
       "1       <7.8      2.0\n",
       "        <10.5     NaN\n",
       "        <21.5     NaN\n",
       "        <41.5     3.0\n",
       "        <512.3    3.0\n",
       "2       <7.8      NaN\n",
       "        <10.5     6.0\n",
       "        <21.5     4.0\n",
       "        <41.5     6.0\n",
       "        <512.3    NaN\n",
       "3       <7.8      6.0\n",
       "        <10.5     7.0\n",
       "        <21.5     7.0\n",
       "        <41.5     6.0\n",
       "        <512.3    NaN\n",
       "Name: Deck, dtype: float64"
      ]
     },
     "execution_count": 26,
     "metadata": {},
     "output_type": "execute_result"
    },
    {
     "data": {
      "image/png": "[encoded data removed]",
      "text/plain": [
       "<Figure size 432x288 with 1 Axes>"
      ]
     },
     "metadata": {
      "needs_background": "light"
     },
     "output_type": "display_data"
    }
   ],
   "source": [
    "df_all['Fare']=pd.qcut(df_all['Fare'],5,labels=[\"<7.8\",\"<10.5\",\"<21.5\",\"<41.5\",\"<512.3\"])\n",
    "###JHU change the orignal ,labels=[\"<7.8\",\"<10.5\",\"<21.5\",\"<41.5\",\"<512.3\"] to ,labels=[\"<102\",\"<204\",\"<307\",\"<409\",\"<512\"]\n",
    "\n",
    "df_all.groupby('Fare')['Fare'].count().plot(kind='bar')\n",
    "\n",
    "# map letters to numbers so we could do mathematical operations, then we'll convert back to letters\n",
    "deck_dict = {'A': 1,\n",
    "'B': 2,\n",
    "'C': 3,\n",
    "'D': 4,\n",
    "'E': 5,\n",
    "'F': 6,\n",
    "'G': 7,\n",
    "'T': 8\n",
    "}\n",
    "df_all['Deck'] = df_all['Deck'].map(deck_dict)    ###############################################\n",
    "\n",
    "# group by Pclass and Fare and make the median\n",
    "median_deck = df_all.groupby(['Pclass','Fare'])  ##############################################\n",
    "median_deck['Deck'].median()\n"
   ]
  },
  {
   "cell_type": "code",
   "execution_count": 27,
   "id": "rotary-rider",
   "metadata": {},
   "outputs": [
    {
     "data": {
      "text/plain": [
       "<AxesSubplot:>"
      ]
     },
     "execution_count": 27,
     "metadata": {},
     "output_type": "execute_result"
    },
    {
     "data": {
      "image/png": "[encoded data removed]",
      "text/plain": [
       "<Figure size 432x288 with 1 Axes>"
      ]
     },
     "metadata": {
      "needs_background": "light"
     },
     "output_type": "display_data"
    }
   ],
   "source": [
    "##############################################################################################################################\n",
    "\n",
    "#df_all['Fare'] = df_all['Fare'].astype(str)\n",
    "df_all.boxplot(column=['Age'])###,figsize=(15,7))\n"
   ]
  },
  {
   "cell_type": "code",
   "execution_count": 28,
   "id": "voluntary-crack",
   "metadata": {},
   "outputs": [
    {
     "name": "stdout",
     "output_type": "stream",
     "text": [
      "<class 'pandas.core.frame.DataFrame'>\n",
      "RangeIndex: 1309 entries, 0 to 1308\n",
      "Data columns (total 13 columns):\n",
      " #   Column       Non-Null Count  Dtype   \n",
      "---  ------       --------------  -----   \n",
      " 0   Age          1309 non-null   category\n",
      " 1   Cabin        295 non-null    object  \n",
      " 2   Embarked     1307 non-null   object  \n",
      " 3   Fare         1309 non-null   category\n",
      " 4   Name         1309 non-null   object  \n",
      " 5   Parch        1309 non-null   int64   \n",
      " 6   PassengerId  1309 non-null   int64   \n",
      " 7   Pclass       1309 non-null   int64   \n",
      " 8   Sex          1309 non-null   object  \n",
      " 9   SibSp        1309 non-null   int64   \n",
      " 10  Survived     891 non-null    float64 \n",
      " 11  Ticket       1309 non-null   object  \n",
      " 12  Deck         295 non-null    float64 \n",
      "dtypes: category(2), float64(2), int64(4), object(5)\n",
      "memory usage: 115.6+ KB\n"
     ]
    }
   ],
   "source": [
    "############################################################################################################################## Groupby Pclass Age\n",
    "\n",
    "df_all['Age']=pd.cut(df_all['Age'],5,labels=[\"<16\",\"<32\",\"<48\",\"<64\",\"<80\"])\n",
    "\n",
    "# group by Pclass and Fare and make the median\n",
    "median_deck_2 = df_all.groupby(['Pclass','Age'])\n",
    "median_deck_2['Deck'].median()\n",
    "\n",
    "df_all.info()"
   ]
  },
  {
   "cell_type": "code",
   "execution_count": 29,
   "id": "cooperative-connecticut",
   "metadata": {},
   "outputs": [
    {
     "name": "stdout",
     "output_type": "stream",
     "text": [
      "<class 'pandas.core.frame.DataFrame'>\n",
      "RangeIndex: 1309 entries, 0 to 1308\n",
      "Data columns (total 13 columns):\n",
      " #   Column       Non-Null Count  Dtype   \n",
      "---  ------       --------------  -----   \n",
      " 0   Age          1309 non-null   category\n",
      " 1   Cabin        295 non-null    object  \n",
      " 2   Embarked     1307 non-null   object  \n",
      " 3   Fare         1309 non-null   category\n",
      " 4   Name         1309 non-null   object  \n",
      " 5   Parch        1309 non-null   int64   \n",
      " 6   PassengerId  1309 non-null   int64   \n",
      " 7   Pclass       1309 non-null   int64   \n",
      " 8   Sex          1309 non-null   object  \n",
      " 9   SibSp        1309 non-null   int64   \n",
      " 10  Survived     891 non-null    float64 \n",
      " 11  Ticket       1309 non-null   object  \n",
      " 12  Deck         1264 non-null   float64 \n",
      "dtypes: category(2), float64(2), int64(4), object(5)\n",
      "memory usage: 115.6+ KB\n"
     ]
    },
    {
     "name": "stderr",
     "output_type": "stream",
     "text": [
      "/home/marry/.local/lib/python3.8/site-packages/numpy/lib/nanfunctions.py:1111: RuntimeWarning: Mean of empty slice\n",
      "  return np.nanmean(a, axis, out=out, keepdims=keepdims)\n",
      "/home/marry/.local/lib/python3.8/site-packages/numpy/lib/nanfunctions.py:1111: RuntimeWarning: Mean of empty slice\n",
      "  return np.nanmean(a, axis, out=out, keepdims=keepdims)\n",
      "/home/marry/.local/lib/python3.8/site-packages/numpy/lib/nanfunctions.py:1111: RuntimeWarning: Mean of empty slice\n",
      "  return np.nanmean(a, axis, out=out, keepdims=keepdims)\n"
     ]
    }
   ],
   "source": [
    "############################################################################################################################### Fillin Cabin based on Pclass Fare\n",
    "\n",
    "# Fill up the NaNs for the cabin based on the grouping above\n",
    "df_all['Deck'] = median_deck['Deck'].transform(lambda x: x.fillna(x.median()))\n",
    "\n",
    "df_all.info()\n"
   ]
  },
  {
   "cell_type": "code",
   "execution_count": 30,
   "id": "frank-brass",
   "metadata": {},
   "outputs": [
    {
     "name": "stdout",
     "output_type": "stream",
     "text": [
      "null_value_in_Deck_column\n"
     ]
    },
    {
     "data": {
      "text/plain": [
       "45"
      ]
     },
     "execution_count": 30,
     "metadata": {},
     "output_type": "execute_result"
    }
   ],
   "source": [
    "print('null_value_in_Deck_column')\n",
    "df_all['Deck'].isnull().sum()\n"
   ]
  },
  {
   "cell_type": "code",
   "execution_count": 31,
   "id": "tender-consideration",
   "metadata": {},
   "outputs": [
    {
     "data": {
      "text/plain": [
       "Text(0.5, 0.98, 'Count_for_different_Deck_after_fillin_operation')"
      ]
     },
     "execution_count": 31,
     "metadata": {},
     "output_type": "execute_result"
    },
    {
     "data": {
      "image/png": "[encoded data removed]",
      "text/plain": [
       "<Figure size 432x288 with 1 Axes>"
      ]
     },
     "metadata": {
      "needs_background": "light"
     },
     "output_type": "display_data"
    }
   ],
   "source": [
    "\n",
    "df_all.groupby('Deck')['Deck'].count().plot(kind='bar')\n",
    "pl.suptitle('Count_for_different_Deck_after_fillin_operation')\n",
    "\n",
    "###JHU Same As below code\n",
    "#df_all.groupby('Deck')['Survived'].count().plot(kind='bar')"
   ]
  },
  {
   "cell_type": "code",
   "execution_count": 32,
   "id": "thirty-sport",
   "metadata": {},
   "outputs": [
    {
     "data": {
      "text/plain": [
       "Text(0.5, 0.98, 'Survival_mean_for_different_Deck_after_fillin_operation')"
      ]
     },
     "execution_count": 32,
     "metadata": {},
     "output_type": "execute_result"
    },
    {
     "data": {
      "image/png": "[encoded data removed]",
      "text/plain": [
       "<Figure size 432x288 with 1 Axes>"
      ]
     },
     "metadata": {
      "needs_background": "light"
     },
     "output_type": "display_data"
    }
   ],
   "source": [
    "################################################################    6  7 \n",
    "\n",
    "df_all.groupby('Deck')['Survived'].mean().plot(kind='bar')\n",
    "pl.suptitle('Survival_mean_for_different_Deck_after_fillin_operation')\n"
   ]
  },
  {
   "cell_type": "code",
   "execution_count": 33,
   "id": "earned-grade",
   "metadata": {},
   "outputs": [
    {
     "data": {
      "text/plain": [
       "Text(0.5, 0.98, 'Count_for_different_Fare_Group')"
      ]
     },
     "execution_count": 33,
     "metadata": {},
     "output_type": "execute_result"
    },
    {
     "data": {
      "image/png": "[encoded data removed]",
      "text/plain": [
       "<Figure size 432x288 with 1 Axes>"
      ]
     },
     "metadata": {
      "needs_background": "light"
     },
     "output_type": "display_data"
    }
   ],
   "source": [
    "\n",
    "df_all.groupby('Fare')['Survived'].mean().plot(kind='bar')\n",
    "pl.suptitle('Count_for_different_Fare_Group')"
   ]
  },
  {
   "cell_type": "code",
   "execution_count": 34,
   "id": "varying-sally",
   "metadata": {},
   "outputs": [
    {
     "data": {
      "text/plain": [
       "Text(0.5, 0.98, 'Count_for_different_Fare_Group')"
      ]
     },
     "execution_count": 34,
     "metadata": {},
     "output_type": "execute_result"
    },
    {
     "data": {
      "image/png": "[encoded data removed]",
      "text/plain": [
       "<Figure size 432x288 with 1 Axes>"
      ]
     },
     "metadata": {
      "needs_background": "light"
     },
     "output_type": "display_data"
    }
   ],
   "source": [
    "\n",
    "df_all.groupby('Fare')['Fare'].count().plot(kind='bar')\n",
    "pl.suptitle('Count_for_different_Fare_Group')"
   ]
  },
  {
   "cell_type": "code",
   "execution_count": 35,
   "id": "proud-oakland",
   "metadata": {},
   "outputs": [
    {
     "data": {
      "text/html": [
       "<div>\n",
       "<style scoped>\n",
       "    .dataframe tbody tr th:only-of-type {\n",
       "        vertical-align: middle;\n",
       "    }\n",
       "\n",
       "    .dataframe tbody tr th {\n",
       "        vertical-align: top;\n",
       "    }\n",
       "\n",
       "    .dataframe thead th {\n",
       "        text-align: right;\n",
       "    }\n",
       "</style>\n",
       "<table border=\"1\" class=\"dataframe\">\n",
       "  <thead>\n",
       "    <tr style=\"text-align: right;\">\n",
       "      <th></th>\n",
       "      <th>Age</th>\n",
       "      <th>Cabin</th>\n",
       "      <th>Embarked</th>\n",
       "      <th>Fare</th>\n",
       "      <th>Name</th>\n",
       "      <th>Parch</th>\n",
       "      <th>PassengerId</th>\n",
       "      <th>Pclass</th>\n",
       "      <th>Sex</th>\n",
       "      <th>SibSp</th>\n",
       "      <th>Survived</th>\n",
       "      <th>Ticket</th>\n",
       "      <th>Deck</th>\n",
       "    </tr>\n",
       "  </thead>\n",
       "  <tbody>\n",
       "    <tr>\n",
       "      <th>0</th>\n",
       "      <td>&lt;32</td>\n",
       "      <td>NaN</td>\n",
       "      <td>S</td>\n",
       "      <td>&lt;7.8</td>\n",
       "      <td>Braund, Mr. Owen Harris</td>\n",
       "      <td>0</td>\n",
       "      <td>1</td>\n",
       "      <td>3</td>\n",
       "      <td>male</td>\n",
       "      <td>1</td>\n",
       "      <td>0.0</td>\n",
       "      <td>A/5 21171</td>\n",
       "      <td>6.0</td>\n",
       "    </tr>\n",
       "    <tr>\n",
       "      <th>1</th>\n",
       "      <td>&lt;48</td>\n",
       "      <td>C85</td>\n",
       "      <td>C</td>\n",
       "      <td>&lt;512.3</td>\n",
       "      <td>Cumings, Mrs. John Bradley (Florence Briggs Th...</td>\n",
       "      <td>0</td>\n",
       "      <td>2</td>\n",
       "      <td>1</td>\n",
       "      <td>female</td>\n",
       "      <td>1</td>\n",
       "      <td>1.0</td>\n",
       "      <td>PC 17599</td>\n",
       "      <td>3.0</td>\n",
       "    </tr>\n",
       "    <tr>\n",
       "      <th>2</th>\n",
       "      <td>&lt;32</td>\n",
       "      <td>NaN</td>\n",
       "      <td>S</td>\n",
       "      <td>&lt;10.5</td>\n",
       "      <td>Heikkinen, Miss. Laina</td>\n",
       "      <td>0</td>\n",
       "      <td>3</td>\n",
       "      <td>3</td>\n",
       "      <td>female</td>\n",
       "      <td>0</td>\n",
       "      <td>1.0</td>\n",
       "      <td>STON/O2. 3101282</td>\n",
       "      <td>7.0</td>\n",
       "    </tr>\n",
       "    <tr>\n",
       "      <th>3</th>\n",
       "      <td>&lt;48</td>\n",
       "      <td>C123</td>\n",
       "      <td>S</td>\n",
       "      <td>&lt;512.3</td>\n",
       "      <td>Futrelle, Mrs. Jacques Heath (Lily May Peel)</td>\n",
       "      <td>0</td>\n",
       "      <td>4</td>\n",
       "      <td>1</td>\n",
       "      <td>female</td>\n",
       "      <td>1</td>\n",
       "      <td>1.0</td>\n",
       "      <td>113803</td>\n",
       "      <td>3.0</td>\n",
       "    </tr>\n",
       "    <tr>\n",
       "      <th>4</th>\n",
       "      <td>&lt;48</td>\n",
       "      <td>NaN</td>\n",
       "      <td>S</td>\n",
       "      <td>&lt;10.5</td>\n",
       "      <td>Allen, Mr. William Henry</td>\n",
       "      <td>0</td>\n",
       "      <td>5</td>\n",
       "      <td>3</td>\n",
       "      <td>male</td>\n",
       "      <td>0</td>\n",
       "      <td>0.0</td>\n",
       "      <td>373450</td>\n",
       "      <td>7.0</td>\n",
       "    </tr>\n",
       "  </tbody>\n",
       "</table>\n",
       "</div>"
      ],
      "text/plain": [
       "   Age Cabin Embarked    Fare  \\\n",
       "0  <32   NaN        S    <7.8   \n",
       "1  <48   C85        C  <512.3   \n",
       "2  <32   NaN        S   <10.5   \n",
       "3  <48  C123        S  <512.3   \n",
       "4  <48   NaN        S   <10.5   \n",
       "\n",
       "                                                Name  Parch  PassengerId  \\\n",
       "0                            Braund, Mr. Owen Harris      0            1   \n",
       "1  Cumings, Mrs. John Bradley (Florence Briggs Th...      0            2   \n",
       "2                             Heikkinen, Miss. Laina      0            3   \n",
       "3       Futrelle, Mrs. Jacques Heath (Lily May Peel)      0            4   \n",
       "4                           Allen, Mr. William Henry      0            5   \n",
       "\n",
       "   Pclass     Sex  SibSp  Survived            Ticket  Deck  \n",
       "0       3    male      1       0.0         A/5 21171   6.0  \n",
       "1       1  female      1       1.0          PC 17599   3.0  \n",
       "2       3  female      0       1.0  STON/O2. 3101282   7.0  \n",
       "3       1  female      1       1.0            113803   3.0  \n",
       "4       3    male      0       0.0            373450   7.0  "
      ]
     },
     "metadata": {},
     "output_type": "display_data"
    }
   ],
   "source": [
    "display(df_all.head(5))"
   ]
  },
  {
   "cell_type": "code",
   "execution_count": 36,
   "id": "prospective-testament",
   "metadata": {},
   "outputs": [
    {
     "data": {
      "text/plain": [
       "<AxesSubplot:xlabel='Deck'>"
      ]
     },
     "execution_count": 36,
     "metadata": {},
     "output_type": "execute_result"
    },
    {
     "data": {
      "image/png": "[encoded data removed]",
      "text/plain": [
       "<Figure size 432x288 with 1 Axes>"
      ]
     },
     "metadata": {
      "needs_background": "light"
     },
     "output_type": "display_data"
    }
   ],
   "source": [
    "################################################################################################################################## trying median not mean\n",
    "\n",
    "df_all['Deck'] = df_all['Deck'].fillna(1)\n",
    "df_all.groupby('Deck')['Survived'].mean().plot(kind='bar',alpha=0.4,legend=True)"
   ]
  },
  {
   "cell_type": "code",
   "execution_count": 37,
   "id": "engaged-triumph",
   "metadata": {},
   "outputs": [
    {
     "name": "stdout",
     "output_type": "stream",
     "text": [
      "<class 'pandas.core.frame.DataFrame'>\n",
      "RangeIndex: 1309 entries, 0 to 1308\n",
      "Data columns (total 13 columns):\n",
      " #   Column       Non-Null Count  Dtype   \n",
      "---  ------       --------------  -----   \n",
      " 0   Age          1309 non-null   category\n",
      " 1   Cabin        295 non-null    object  \n",
      " 2   Embarked     1307 non-null   object  \n",
      " 3   Fare         1309 non-null   category\n",
      " 4   Name         1309 non-null   object  \n",
      " 5   Parch        1309 non-null   int64   \n",
      " 6   PassengerId  1309 non-null   int64   \n",
      " 7   Pclass       1309 non-null   int64   \n",
      " 8   Sex          1309 non-null   object  \n",
      " 9   SibSp        1309 non-null   int64   \n",
      " 10  Survived     891 non-null    float64 \n",
      " 11  Ticket       1309 non-null   object  \n",
      " 12  Deck         1309 non-null   float64 \n",
      "dtypes: category(2), float64(2), int64(4), object(5)\n",
      "memory usage: 115.6+ KB\n"
     ]
    }
   ],
   "source": [
    "df_all.info()"
   ]
  },
  {
   "cell_type": "code",
   "execution_count": 38,
   "id": "intermediate-storage",
   "metadata": {},
   "outputs": [
    {
     "data": {
      "text/html": [
       "<div>\n",
       "<style scoped>\n",
       "    .dataframe tbody tr th:only-of-type {\n",
       "        vertical-align: middle;\n",
       "    }\n",
       "\n",
       "    .dataframe tbody tr th {\n",
       "        vertical-align: top;\n",
       "    }\n",
       "\n",
       "    .dataframe thead th {\n",
       "        text-align: right;\n",
       "    }\n",
       "</style>\n",
       "<table border=\"1\" class=\"dataframe\">\n",
       "  <thead>\n",
       "    <tr style=\"text-align: right;\">\n",
       "      <th></th>\n",
       "      <th>Age</th>\n",
       "      <th>Cabin</th>\n",
       "      <th>Embarked</th>\n",
       "      <th>Fare</th>\n",
       "      <th>Name</th>\n",
       "      <th>Parch</th>\n",
       "      <th>PassengerId</th>\n",
       "      <th>Pclass</th>\n",
       "      <th>Sex</th>\n",
       "      <th>SibSp</th>\n",
       "      <th>Survived</th>\n",
       "      <th>Ticket</th>\n",
       "      <th>Deck</th>\n",
       "    </tr>\n",
       "  </thead>\n",
       "  <tbody>\n",
       "    <tr>\n",
       "      <th>0</th>\n",
       "      <td>&lt;32</td>\n",
       "      <td>NaN</td>\n",
       "      <td>S</td>\n",
       "      <td>&lt;7.8</td>\n",
       "      <td>Braund, Mr. Owen Harris</td>\n",
       "      <td>0</td>\n",
       "      <td>1</td>\n",
       "      <td>3</td>\n",
       "      <td>male</td>\n",
       "      <td>1</td>\n",
       "      <td>0.0</td>\n",
       "      <td>A/5 21171</td>\n",
       "      <td>F</td>\n",
       "    </tr>\n",
       "    <tr>\n",
       "      <th>1</th>\n",
       "      <td>&lt;48</td>\n",
       "      <td>C85</td>\n",
       "      <td>C</td>\n",
       "      <td>&lt;512.3</td>\n",
       "      <td>Cumings, Mrs. John Bradley (Florence Briggs Th...</td>\n",
       "      <td>0</td>\n",
       "      <td>2</td>\n",
       "      <td>1</td>\n",
       "      <td>female</td>\n",
       "      <td>1</td>\n",
       "      <td>1.0</td>\n",
       "      <td>PC 17599</td>\n",
       "      <td>C</td>\n",
       "    </tr>\n",
       "    <tr>\n",
       "      <th>2</th>\n",
       "      <td>&lt;32</td>\n",
       "      <td>NaN</td>\n",
       "      <td>S</td>\n",
       "      <td>&lt;10.5</td>\n",
       "      <td>Heikkinen, Miss. Laina</td>\n",
       "      <td>0</td>\n",
       "      <td>3</td>\n",
       "      <td>3</td>\n",
       "      <td>female</td>\n",
       "      <td>0</td>\n",
       "      <td>1.0</td>\n",
       "      <td>STON/O2. 3101282</td>\n",
       "      <td>G</td>\n",
       "    </tr>\n",
       "    <tr>\n",
       "      <th>3</th>\n",
       "      <td>&lt;48</td>\n",
       "      <td>C123</td>\n",
       "      <td>S</td>\n",
       "      <td>&lt;512.3</td>\n",
       "      <td>Futrelle, Mrs. Jacques Heath (Lily May Peel)</td>\n",
       "      <td>0</td>\n",
       "      <td>4</td>\n",
       "      <td>1</td>\n",
       "      <td>female</td>\n",
       "      <td>1</td>\n",
       "      <td>1.0</td>\n",
       "      <td>113803</td>\n",
       "      <td>C</td>\n",
       "    </tr>\n",
       "    <tr>\n",
       "      <th>4</th>\n",
       "      <td>&lt;48</td>\n",
       "      <td>NaN</td>\n",
       "      <td>S</td>\n",
       "      <td>&lt;10.5</td>\n",
       "      <td>Allen, Mr. William Henry</td>\n",
       "      <td>0</td>\n",
       "      <td>5</td>\n",
       "      <td>3</td>\n",
       "      <td>male</td>\n",
       "      <td>0</td>\n",
       "      <td>0.0</td>\n",
       "      <td>373450</td>\n",
       "      <td>G</td>\n",
       "    </tr>\n",
       "  </tbody>\n",
       "</table>\n",
       "</div>"
      ],
      "text/plain": [
       "   Age Cabin Embarked    Fare  \\\n",
       "0  <32   NaN        S    <7.8   \n",
       "1  <48   C85        C  <512.3   \n",
       "2  <32   NaN        S   <10.5   \n",
       "3  <48  C123        S  <512.3   \n",
       "4  <48   NaN        S   <10.5   \n",
       "\n",
       "                                                Name  Parch  PassengerId  \\\n",
       "0                            Braund, Mr. Owen Harris      0            1   \n",
       "1  Cumings, Mrs. John Bradley (Florence Briggs Th...      0            2   \n",
       "2                             Heikkinen, Miss. Laina      0            3   \n",
       "3       Futrelle, Mrs. Jacques Heath (Lily May Peel)      0            4   \n",
       "4                           Allen, Mr. William Henry      0            5   \n",
       "\n",
       "   Pclass     Sex  SibSp  Survived            Ticket Deck  \n",
       "0       3    male      1       0.0         A/5 21171    F  \n",
       "1       1  female      1       1.0          PC 17599    C  \n",
       "2       3  female      0       1.0  STON/O2. 3101282    G  \n",
       "3       1  female      1       1.0            113803    C  \n",
       "4       3    male      0       0.0            373450    G  "
      ]
     },
     "execution_count": 38,
     "metadata": {},
     "output_type": "execute_result"
    }
   ],
   "source": [
    "# revert back to letters\n",
    "deck_letters = ['A', 'B', 'C', 'D', 'E', 'F', 'G', 'T']\n",
    "df_all['Deck'] = df_all['Deck'].apply(lambda x: deck_letters[int(x - 1)])      ######################################################\n",
    "df_all.head()"
   ]
  },
  {
   "cell_type": "code",
   "execution_count": 39,
   "id": "superior-sight",
   "metadata": {},
   "outputs": [
    {
     "name": "stdout",
     "output_type": "stream",
     "text": [
      "<class 'pandas.core.frame.DataFrame'>\n",
      "RangeIndex: 1309 entries, 0 to 1308\n",
      "Data columns (total 13 columns):\n",
      " #   Column       Non-Null Count  Dtype   \n",
      "---  ------       --------------  -----   \n",
      " 0   Age          1309 non-null   category\n",
      " 1   Cabin        295 non-null    object  \n",
      " 2   Embarked     1307 non-null   object  \n",
      " 3   Fare         1309 non-null   category\n",
      " 4   Name         1309 non-null   object  \n",
      " 5   Parch        1309 non-null   int64   \n",
      " 6   PassengerId  1309 non-null   int64   \n",
      " 7   Pclass       1309 non-null   int64   \n",
      " 8   Sex          1309 non-null   object  \n",
      " 9   SibSp        1309 non-null   int64   \n",
      " 10  Survived     891 non-null    float64 \n",
      " 11  Ticket       1309 non-null   object  \n",
      " 12  Deck         1309 non-null   object  \n",
      "dtypes: category(2), float64(1), int64(4), object(6)\n",
      "memory usage: 115.6+ KB\n"
     ]
    }
   ],
   "source": [
    "df_all.info()"
   ]
  },
  {
   "cell_type": "code",
   "execution_count": 40,
   "id": "surface-mason",
   "metadata": {},
   "outputs": [
    {
     "data": {
      "text/plain": [
       "F    468\n",
       "G    347\n",
       "D    159\n",
       "C    158\n",
       "B     68\n",
       "A     67\n",
       "E     41\n",
       "T      1\n",
       "Name: Deck, dtype: int64"
      ]
     },
     "execution_count": 40,
     "metadata": {},
     "output_type": "execute_result"
    }
   ],
   "source": [
    "############################################# not use\n",
    "\n",
    "#idx=df_all[df_all['Deck']=='T'].index\n",
    "#df_all.loc[idx,'Deck']='A'\n",
    "\n",
    "###JHU maybe we can category Deck based on the Survival_rate in above chart???\n",
    "\n",
    "#\n",
    "#df_all['Deck']=df_all['Deck'].replace(['E','B','C'],'EBC')\n",
    "#df_all['Deck']=df_all['Deck'].replace(['D','A'],'DA')\n",
    "#df_all['Deck']=df_all['Deck'].replace(['F','G','T'],'FGT')\n",
    "\n",
    "df_all['Deck'].value_counts()                ################################################################   .value_counts"
   ]
  },
  {
   "cell_type": "code",
   "execution_count": 41,
   "id": "subsequent-screw",
   "metadata": {},
   "outputs": [],
   "source": [
    "#### 2 data cleansing \n",
    "### 2.4 Embarked\n"
   ]
  },
  {
   "cell_type": "code",
   "execution_count": 42,
   "id": "relative-european",
   "metadata": {},
   "outputs": [
    {
     "data": {
      "text/html": [
       "<div>\n",
       "<style scoped>\n",
       "    .dataframe tbody tr th:only-of-type {\n",
       "        vertical-align: middle;\n",
       "    }\n",
       "\n",
       "    .dataframe tbody tr th {\n",
       "        vertical-align: top;\n",
       "    }\n",
       "\n",
       "    .dataframe thead th {\n",
       "        text-align: right;\n",
       "    }\n",
       "</style>\n",
       "<table border=\"1\" class=\"dataframe\">\n",
       "  <thead>\n",
       "    <tr style=\"text-align: right;\">\n",
       "      <th></th>\n",
       "      <th>Age</th>\n",
       "      <th>Cabin</th>\n",
       "      <th>Embarked</th>\n",
       "      <th>Fare</th>\n",
       "      <th>Name</th>\n",
       "      <th>Parch</th>\n",
       "      <th>PassengerId</th>\n",
       "      <th>Pclass</th>\n",
       "      <th>Sex</th>\n",
       "      <th>SibSp</th>\n",
       "      <th>Survived</th>\n",
       "      <th>Ticket</th>\n",
       "      <th>Deck</th>\n",
       "    </tr>\n",
       "  </thead>\n",
       "  <tbody>\n",
       "    <tr>\n",
       "      <th>61</th>\n",
       "      <td>&lt;48</td>\n",
       "      <td>B28</td>\n",
       "      <td>NaN</td>\n",
       "      <td>&lt;512.3</td>\n",
       "      <td>Icard, Miss. Amelie</td>\n",
       "      <td>0</td>\n",
       "      <td>62</td>\n",
       "      <td>1</td>\n",
       "      <td>female</td>\n",
       "      <td>0</td>\n",
       "      <td>1.0</td>\n",
       "      <td>113572</td>\n",
       "      <td>B</td>\n",
       "    </tr>\n",
       "    <tr>\n",
       "      <th>829</th>\n",
       "      <td>&lt;64</td>\n",
       "      <td>B28</td>\n",
       "      <td>NaN</td>\n",
       "      <td>&lt;512.3</td>\n",
       "      <td>Stone, Mrs. George Nelson (Martha Evelyn)</td>\n",
       "      <td>0</td>\n",
       "      <td>830</td>\n",
       "      <td>1</td>\n",
       "      <td>female</td>\n",
       "      <td>0</td>\n",
       "      <td>1.0</td>\n",
       "      <td>113572</td>\n",
       "      <td>B</td>\n",
       "    </tr>\n",
       "  </tbody>\n",
       "</table>\n",
       "</div>"
      ],
      "text/plain": [
       "     Age Cabin Embarked    Fare                                       Name  \\\n",
       "61   <48   B28      NaN  <512.3                        Icard, Miss. Amelie   \n",
       "829  <64   B28      NaN  <512.3  Stone, Mrs. George Nelson (Martha Evelyn)   \n",
       "\n",
       "     Parch  PassengerId  Pclass     Sex  SibSp  Survived  Ticket Deck  \n",
       "61       0           62       1  female      0       1.0  113572    B  \n",
       "829      0          830       1  female      0       1.0  113572    B  "
      ]
     },
     "execution_count": 42,
     "metadata": {},
     "output_type": "execute_result"
    }
   ],
   "source": [
    "df_all.loc[df_all['Embarked'].isnull()]"
   ]
  },
  {
   "cell_type": "code",
   "execution_count": 43,
   "id": "experienced-russell",
   "metadata": {},
   "outputs": [],
   "source": [
    "#check for passengers who were in passenger class 1, on deck abc and paid 80 or less for the tickets\n",
    "#df_all.loc[(df_all['Pclass']==1)&(df_all['Fare']<=80)&(df_all['Deck']=='ABC')]['Embarked'].value_counts()\n",
    "\n",
    "#not needed any more cause we can Google the value S"
   ]
  },
  {
   "cell_type": "code",
   "execution_count": 44,
   "id": "instructional-prime",
   "metadata": {},
   "outputs": [],
   "source": [
    "###JHU data 'S' were Google checked, no relationship with above figures\n",
    "\n",
    "df_all.loc[df_all['Embarked'].isnull(),'Embarked']='S'"
   ]
  },
  {
   "cell_type": "code",
   "execution_count": 45,
   "id": "seasonal-strain",
   "metadata": {},
   "outputs": [],
   "source": [
    "#### 2 data cleansing \n",
    "### 2.5 Conclusion\n"
   ]
  },
  {
   "cell_type": "code",
   "execution_count": 46,
   "id": "threatened-stations",
   "metadata": {},
   "outputs": [
    {
     "name": "stdout",
     "output_type": "stream",
     "text": [
      "missing_in_all_data\n"
     ]
    },
    {
     "data": {
      "text/plain": [
       "Age               0\n",
       "Cabin          1014\n",
       "Embarked          0\n",
       "Fare              0\n",
       "Name              0\n",
       "Parch             0\n",
       "PassengerId       0\n",
       "Pclass            0\n",
       "Sex               0\n",
       "SibSp             0\n",
       "Survived        418\n",
       "Ticket            0\n",
       "Deck              0\n",
       "dtype: int64"
      ]
     },
     "metadata": {},
     "output_type": "display_data"
    }
   ],
   "source": [
    "print(\"missing_in_all_data\")\n",
    "display(df_all.isnull().sum())\n"
   ]
  },
  {
   "cell_type": "code",
   "execution_count": 47,
   "id": "precious-december",
   "metadata": {},
   "outputs": [
    {
     "name": "stdout",
     "output_type": "stream",
     "text": [
      "missing_in_train_data\n"
     ]
    },
    {
     "data": {
      "text/plain": [
       "PassengerId      0\n",
       "Survived         0\n",
       "Pclass           0\n",
       "Name             0\n",
       "Sex              0\n",
       "Age            177\n",
       "SibSp            0\n",
       "Parch            0\n",
       "Ticket           0\n",
       "Fare             0\n",
       "Cabin          687\n",
       "Embarked         2\n",
       "dtype: int64"
      ]
     },
     "execution_count": 47,
     "metadata": {},
     "output_type": "execute_result"
    }
   ],
   "source": [
    "print(\"missing_in_train_data\")\n",
    "train_data.isnull().sum()\n",
    "\n",
    "###JHU why still keeps null Age values in train_data, since we have replaced\n",
    "###median Age value by Pclass and Sex in df_all???"
   ]
  },
  {
   "cell_type": "code",
   "execution_count": 48,
   "id": "contrary-gothic",
   "metadata": {},
   "outputs": [],
   "source": [
    "#### 3 feature engineering \n",
    "### 3.1 Binning\n"
   ]
  },
  {
   "cell_type": "code",
   "execution_count": 49,
   "id": "expected-software",
   "metadata": {},
   "outputs": [
    {
     "name": "stdout",
     "output_type": "stream",
     "text": [
      "<class 'pandas.core.frame.DataFrame'>\n",
      "RangeIndex: 1309 entries, 0 to 1308\n",
      "Data columns (total 13 columns):\n",
      " #   Column       Non-Null Count  Dtype   \n",
      "---  ------       --------------  -----   \n",
      " 0   Age          1309 non-null   category\n",
      " 1   Cabin        295 non-null    object  \n",
      " 2   Embarked     1309 non-null   object  \n",
      " 3   Fare         1309 non-null   category\n",
      " 4   Name         1309 non-null   object  \n",
      " 5   Parch        1309 non-null   int64   \n",
      " 6   PassengerId  1309 non-null   int64   \n",
      " 7   Pclass       1309 non-null   int64   \n",
      " 8   Sex          1309 non-null   object  \n",
      " 9   SibSp        1309 non-null   int64   \n",
      " 10  Survived     891 non-null    float64 \n",
      " 11  Ticket       1309 non-null   object  \n",
      " 12  Deck         1309 non-null   object  \n",
      "dtypes: category(2), float64(1), int64(4), object(6)\n",
      "memory usage: 115.6+ KB\n"
     ]
    }
   ],
   "source": [
    "#################################################################################################################################\n",
    "\n",
    "df_all.info()"
   ]
  },
  {
   "cell_type": "code",
   "execution_count": 50,
   "id": "parallel-variance",
   "metadata": {},
   "outputs": [],
   "source": [
    "################################################################################################################################# Borrowed to above binning\n",
    "\n",
    "#df_all['Fare'] = df_all['Fare'].astype(str)\n",
    "#df_all.boxplot(column=['Fare'])###,figsize=(15,7))"
   ]
  },
  {
   "cell_type": "code",
   "execution_count": 51,
   "id": "professional-geology",
   "metadata": {},
   "outputs": [
    {
     "data": {
      "text/plain": [
       "<AxesSubplot:xlabel='Fare', ylabel='Count'>"
      ]
     },
     "execution_count": 51,
     "metadata": {},
     "output_type": "execute_result"
    },
    {
     "data": {
      "image/png": "[encoded data removed]",
      "text/plain": [
       "<Figure size 432x288 with 1 Axes>"
      ]
     },
     "metadata": {
      "needs_background": "light"
     },
     "output_type": "display_data"
    }
   ],
   "source": [
    "###JHU\n",
    "\n",
    "sb.histplot(data=df_all,x=\"Fare\",alpha=0.4)"
   ]
  },
  {
   "cell_type": "code",
   "execution_count": 52,
   "id": "coordinated-arrival",
   "metadata": {},
   "outputs": [],
   "source": [
    "################################################################################################################################# Borrowed to above binning\n",
    "\n",
    "#df_all.boxplot(column=['Age'])"
   ]
  },
  {
   "cell_type": "code",
   "execution_count": 53,
   "id": "empty-investor",
   "metadata": {},
   "outputs": [
    {
     "data": {
      "text/plain": [
       "<AxesSubplot:xlabel='Age', ylabel='Count'>"
      ]
     },
     "execution_count": 53,
     "metadata": {},
     "output_type": "execute_result"
    },
    {
     "data": {
      "image/png": "[encoded data removed]",
      "text/plain": [
       "<Figure size 432x288 with 1 Axes>"
      ]
     },
     "metadata": {
      "needs_background": "light"
     },
     "output_type": "display_data"
    }
   ],
   "source": [
    "###JHU\n",
    "\n",
    "sb.histplot(data=df_all,x=\"Age\",alpha=0.4)"
   ]
  },
  {
   "cell_type": "code",
   "execution_count": 54,
   "id": "revolutionary-blame",
   "metadata": {},
   "outputs": [
    {
     "name": "stdout",
     "output_type": "stream",
     "text": [
      "For_Age,_each_category_has_a_different_number_of_cases:\n"
     ]
    },
    {
     "data": {
      "text/plain": [
       "<32    748\n",
       "<48    308\n",
       "<16    134\n",
       "<64    106\n",
       "<80     13\n",
       "Name: Age, dtype: int64"
      ]
     },
     "execution_count": 54,
     "metadata": {},
     "output_type": "execute_result"
    }
   ],
   "source": [
    "###df_all['Fare']=pd.qcut(df_all['Fare'],5)   #### we must run this first to get\n",
    "###the label range then use label parameter to distribute into the bins\n",
    "\n",
    "#df_all['Fare']=pd.qcut(df_all['Fare'],5,labels=[\"<7.8\",\"<10.5\",\"<21.5\",\"<41.5\",\"<512.3\"])\n",
    "\n",
    "#df_all['Age']=pd.cut(df_all['Age'],5,labels=[\"<16\",\"<32\",\"<48\",\"<64\",\"<80\"])\n",
    "\n",
    "print(\"For_Age,_each_category_has_a_different_number_of_cases:\")\n",
    "df_all['Age'].value_counts()"
   ]
  },
  {
   "cell_type": "code",
   "execution_count": 55,
   "id": "accomplished-samoa",
   "metadata": {},
   "outputs": [
    {
     "name": "stdout",
     "output_type": "stream",
     "text": [
      "For_Fare,_each_category_has_nearly_a_same_number_of_cases:\n"
     ]
    },
    {
     "data": {
      "text/plain": [
       "<7.8      275\n",
       "<41.5     265\n",
       "<512.3    259\n",
       "<10.5     255\n",
       "<21.5     255\n",
       "Name: Fare, dtype: int64"
      ]
     },
     "execution_count": 55,
     "metadata": {},
     "output_type": "execute_result"
    }
   ],
   "source": [
    "print(\"For_Fare,_each_category_has_nearly_a_same_number_of_cases:\")\n",
    "df_all['Fare'].value_counts()      ###########################################################################################################"
   ]
  },
  {
   "cell_type": "code",
   "execution_count": 56,
   "id": "atmospheric-variety",
   "metadata": {},
   "outputs": [
    {
     "data": {
      "text/html": [
       "<div>\n",
       "<style scoped>\n",
       "    .dataframe tbody tr th:only-of-type {\n",
       "        vertical-align: middle;\n",
       "    }\n",
       "\n",
       "    .dataframe tbody tr th {\n",
       "        vertical-align: top;\n",
       "    }\n",
       "\n",
       "    .dataframe thead th {\n",
       "        text-align: right;\n",
       "    }\n",
       "</style>\n",
       "<table border=\"1\" class=\"dataframe\">\n",
       "  <thead>\n",
       "    <tr style=\"text-align: right;\">\n",
       "      <th></th>\n",
       "      <th>Age</th>\n",
       "      <th>Survived</th>\n",
       "    </tr>\n",
       "  </thead>\n",
       "  <tbody>\n",
       "    <tr>\n",
       "      <th>996</th>\n",
       "      <td>&lt;32</td>\n",
       "      <td>NaN</td>\n",
       "    </tr>\n",
       "    <tr>\n",
       "      <th>1082</th>\n",
       "      <td>&lt;48</td>\n",
       "      <td>NaN</td>\n",
       "    </tr>\n",
       "    <tr>\n",
       "      <th>197</th>\n",
       "      <td>&lt;48</td>\n",
       "      <td>0.0</td>\n",
       "    </tr>\n",
       "    <tr>\n",
       "      <th>773</th>\n",
       "      <td>&lt;32</td>\n",
       "      <td>0.0</td>\n",
       "    </tr>\n",
       "    <tr>\n",
       "      <th>195</th>\n",
       "      <td>&lt;64</td>\n",
       "      <td>1.0</td>\n",
       "    </tr>\n",
       "  </tbody>\n",
       "</table>\n",
       "</div>"
      ],
      "text/plain": [
       "      Age  Survived\n",
       "996   <32       NaN\n",
       "1082  <48       NaN\n",
       "197   <48       0.0\n",
       "773   <32       0.0\n",
       "195   <64       1.0"
      ]
     },
     "execution_count": 56,
     "metadata": {},
     "output_type": "execute_result"
    }
   ],
   "source": [
    "###JHU\n",
    "df_all[['Age','Survived']].sample(5)"
   ]
  },
  {
   "cell_type": "code",
   "execution_count": 57,
   "id": "revolutionary-tutorial",
   "metadata": {},
   "outputs": [
    {
     "data": {
      "text/plain": [
       "Age\n",
       "<16    0.550000\n",
       "<32    0.336714\n",
       "<48    0.412844\n",
       "<64    0.434783\n",
       "<80    0.090909\n",
       "Name: Survived, dtype: float64"
      ]
     },
     "execution_count": 57,
     "metadata": {},
     "output_type": "execute_result"
    }
   ],
   "source": [
    "#\n",
    "df_all[['Age','Survived']].groupby('Age')['Survived'].mean()\n",
    "\n",
    "#df_all.groupby('Age')['Survived'].mean()"
   ]
  },
  {
   "cell_type": "code",
   "execution_count": 58,
   "id": "motivated-delay",
   "metadata": {},
   "outputs": [
    {
     "data": {
      "text/plain": [
       "Fare\n",
       "<7.8      0.217877\n",
       "<10.5     0.201087\n",
       "<21.5     0.426901\n",
       "<41.5     0.443243\n",
       "<512.3    0.645349\n",
       "Name: Survived, dtype: float64"
      ]
     },
     "execution_count": 58,
     "metadata": {},
     "output_type": "execute_result"
    }
   ],
   "source": [
    "#\n",
    "df_all[['Fare','Survived']].groupby('Fare')['Survived'].mean()\n",
    "\n",
    "#df_all.groupby('Fare')['Survived'].mean()"
   ]
  },
  {
   "cell_type": "code",
   "execution_count": 59,
   "id": "quality-greene",
   "metadata": {},
   "outputs": [
    {
     "data": {
      "text/plain": [
       "Text(0.5, 0.98, 'Survival_rates_for_Age_categories')"
      ]
     },
     "execution_count": 59,
     "metadata": {},
     "output_type": "execute_result"
    },
    {
     "data": {
      "image/png": "[encoded data removed]",
      "text/plain": [
       "<Figure size 432x288 with 1 Axes>"
      ]
     },
     "metadata": {
      "needs_background": "light"
     },
     "output_type": "display_data"
    }
   ],
   "source": [
    "#\n",
    "df_all[['Age','Survived']].groupby('Age')['Survived'].mean().plot(kind='bar',alpha=0.4)\n",
    "pl.suptitle('Survival_rates_for_Age_categories')\n",
    "\n",
    "#\n",
    "#df_all.groupby('Age')['Survived'].mean().plot(kind='bar',alpha=0.4)\n",
    "#pl.suptitle('Survival_rates_for_Age_categories')"
   ]
  },
  {
   "cell_type": "code",
   "execution_count": 60,
   "id": "exterior-gauge",
   "metadata": {},
   "outputs": [
    {
     "data": {
      "text/plain": [
       "Text(0.5, 0.98, 'Survivel_rate_for_Fare_categories')"
      ]
     },
     "execution_count": 60,
     "metadata": {},
     "output_type": "execute_result"
    },
    {
     "data": {
      "image/png": "[encoded data removed]",
      "text/plain": [
       "<Figure size 432x288 with 1 Axes>"
      ]
     },
     "metadata": {
      "needs_background": "light"
     },
     "output_type": "display_data"
    }
   ],
   "source": [
    "#\n",
    "df_all[['Fare','Survived']].groupby('Fare')['Survived'].mean().plot(kind='bar',alpha=0.4)\n",
    "pl.suptitle('Survivel_rate_for_Fare_categories')\n",
    "\n",
    "#\n",
    "#df_all.groupby('Fare')['Survived'].mean().plot(kind='bar',alpha=0.4)\n",
    "#pl.suptitle('Survivel_rate_for_Fare_categories')"
   ]
  },
  {
   "cell_type": "code",
   "execution_count": 61,
   "id": "complicated-demonstration",
   "metadata": {},
   "outputs": [],
   "source": [
    "#### 3.2 Creat new features out of existing variables \n",
    "### Family Size\n",
    "\n",
    "###JHU why we do it this way, i see no logic between SibSp or Parch with \n",
    "###JHU Family_size, and Family_size will not effect the Survival_rate of \n",
    "###JHU individual"
   ]
  },
  {
   "cell_type": "code",
   "execution_count": 62,
   "id": "primary-opinion",
   "metadata": {},
   "outputs": [
    {
     "data": {
      "text/plain": [
       "<AxesSubplot:ylabel='Frequency'>"
      ]
     },
     "execution_count": 62,
     "metadata": {},
     "output_type": "execute_result"
    },
    {
     "data": {
      "image/png": "[encoded data removed]",
      "text/plain": [
       "<Figure size 432x288 with 1 Axes>"
      ]
     },
     "metadata": {
      "needs_background": "light"
     },
     "output_type": "display_data"
    }
   ],
   "source": [
    "#\n",
    "df_all['Family_size']=df_all['SibSp']+df_all['Parch']+1\n",
    "#\n",
    "df_all['Family_size'].plot.hist(alpha=0.4)"
   ]
  },
  {
   "cell_type": "code",
   "execution_count": 63,
   "id": "australian-formula",
   "metadata": {},
   "outputs": [
    {
     "data": {
      "text/plain": [
       "1    790\n",
       "2    235\n",
       "3    202\n",
       "4     82\n",
       "Name: Family_size_bin, dtype: int64"
      ]
     },
     "execution_count": 63,
     "metadata": {},
     "output_type": "execute_result"
    }
   ],
   "source": [
    "#\n",
    "df_all['Family_size_bin']=df_all['Family_size'].map(lambda s:1 if s==1 else(2 if s==2 else(3 if 3<=s<=4 else(4 if s>=5 else 0))))\n",
    "\n",
    "#\n",
    "df_all['Family_size_bin'].value_counts()"
   ]
  },
  {
   "cell_type": "code",
   "execution_count": 64,
   "id": "nominated-commercial",
   "metadata": {},
   "outputs": [
    {
     "data": {
      "text/plain": [
       "<AxesSubplot:title={'center':'Survival_mean_with_Family_size_bin'}, xlabel='Family_size_bin'>"
      ]
     },
     "execution_count": 64,
     "metadata": {},
     "output_type": "execute_result"
    },
    {
     "data": {
      "image/png": "[encoded data removed]",
      "text/plain": [
       "<Figure size 432x288 with 1 Axes>"
      ]
     },
     "metadata": {
      "needs_background": "light"
     },
     "output_type": "display_data"
    }
   ],
   "source": [
    "#\n",
    "df_all[['Family_size_bin','Survived']].groupby('Family_size_bin')['Survived'].mean().plot(kind='bar',alpha=0.4,title='Survival_mean_with_Family_size_bin')\n",
    "#plt.xlabel('Family_size_bin')\n",
    "#plt.ylabel('Survival_mean')\n",
    "\n",
    "###############################################################################################################################################  pd plot with title\n",
    "#boston_df['AGE'].plot.hist(title='Proportion of owner-occupied units built prior to 1940')\n",
    "\n",
    "#\n",
    "#df_all.groupby('Family_size_bin')['Survived'].mean().plot(kind='bar',alpha=0.4)"
   ]
  },
  {
   "cell_type": "code",
   "execution_count": 65,
   "id": "simple-candle",
   "metadata": {},
   "outputs": [],
   "source": [
    "#### 3 Creat new features out of existing variables\n",
    "### Tickets\n"
   ]
  },
  {
   "cell_type": "code",
   "execution_count": 66,
   "id": "thousand-scope",
   "metadata": {},
   "outputs": [
    {
     "data": {
      "text/plain": [
       "444     1\n",
       "696     1\n",
       "851     1\n",
       "1040    2\n",
       "1082    1\n",
       "Name: Ticket_frequency, dtype: int64"
      ]
     },
     "execution_count": 66,
     "metadata": {},
     "output_type": "execute_result"
    }
   ],
   "source": [
    "#\n",
    "df_all['Ticket_frequency']=df_all.groupby('Ticket')['Ticket'].transform('count')\n",
    "#JHU count same Ticket_id number, why there are same id ticket? in same Cabin or???\n",
    "#df_all['Ticket_frequency']=df_all.groupby('Ticket')['Ticket'].apply('count')\n",
    "\n",
    "###JHU\n",
    "df_all['Ticket_frequency'].sample(5)"
   ]
  },
  {
   "cell_type": "code",
   "execution_count": 67,
   "id": "royal-experience",
   "metadata": {},
   "outputs": [
    {
     "data": {
      "text/plain": [
       "Ticket_frequency\n",
       "1     0.270270\n",
       "2     0.513812\n",
       "3     0.653465\n",
       "4     0.727273\n",
       "5     0.333333\n",
       "6     0.210526\n",
       "7     0.208333\n",
       "8     0.384615\n",
       "11    0.000000\n",
       "Name: Survived, dtype: float64"
      ]
     },
     "execution_count": 67,
     "metadata": {},
     "output_type": "execute_result"
    }
   ],
   "source": [
    "#df_all[['Ticket_frequency','Survived']].groupby('Ticket_frequency').mean()\n",
    "\n",
    "df_all.groupby('Ticket_frequency')['Survived'].mean()"
   ]
  },
  {
   "cell_type": "code",
   "execution_count": 68,
   "id": "automated-gathering",
   "metadata": {},
   "outputs": [
    {
     "data": {
      "text/plain": [
       "<AxesSubplot:xlabel='Ticket_frequency'>"
      ]
     },
     "execution_count": 68,
     "metadata": {},
     "output_type": "execute_result"
    },
    {
     "data": {
      "image/png": "[encoded data removed]",
      "text/plain": [
       "<Figure size 432x288 with 1 Axes>"
      ]
     },
     "metadata": {
      "needs_background": "light"
     },
     "output_type": "display_data"
    }
   ],
   "source": [
    "#\n",
    "#df_all[['Ticket_frequency','Survived']].groupby('Ticket_frequency')['Survived'].mean().plot(kind='bar',alpha=0.4)\n",
    "\n",
    "df_all.groupby('Ticket_frequency')['Survived'].mean().plot(kind='bar',alpha=0.4)"
   ]
  },
  {
   "cell_type": "code",
   "execution_count": 69,
   "id": "impressed-trance",
   "metadata": {},
   "outputs": [],
   "source": [
    "#### 3.2 Creat new features out of existing variables \n",
    "### Title\n"
   ]
  },
  {
   "cell_type": "code",
   "execution_count": 70,
   "id": "prerequisite-bishop",
   "metadata": {},
   "outputs": [
    {
     "data": {
      "text/html": [
       "<div>\n",
       "<style scoped>\n",
       "    .dataframe tbody tr th:only-of-type {\n",
       "        vertical-align: middle;\n",
       "    }\n",
       "\n",
       "    .dataframe tbody tr th {\n",
       "        vertical-align: top;\n",
       "    }\n",
       "\n",
       "    .dataframe thead th {\n",
       "        text-align: right;\n",
       "    }\n",
       "</style>\n",
       "<table border=\"1\" class=\"dataframe\">\n",
       "  <thead>\n",
       "    <tr style=\"text-align: right;\">\n",
       "      <th></th>\n",
       "      <th>Age</th>\n",
       "      <th>Cabin</th>\n",
       "      <th>Embarked</th>\n",
       "      <th>Fare</th>\n",
       "      <th>Name</th>\n",
       "      <th>Parch</th>\n",
       "      <th>PassengerId</th>\n",
       "      <th>Pclass</th>\n",
       "      <th>Sex</th>\n",
       "      <th>SibSp</th>\n",
       "      <th>Survived</th>\n",
       "      <th>Ticket</th>\n",
       "      <th>Deck</th>\n",
       "      <th>Family_size</th>\n",
       "      <th>Family_size_bin</th>\n",
       "      <th>Ticket_frequency</th>\n",
       "    </tr>\n",
       "  </thead>\n",
       "  <tbody>\n",
       "    <tr>\n",
       "      <th>629</th>\n",
       "      <td>&lt;32</td>\n",
       "      <td>NaN</td>\n",
       "      <td>Q</td>\n",
       "      <td>&lt;7.8</td>\n",
       "      <td>O'Connell, Mr. Patrick D</td>\n",
       "      <td>0</td>\n",
       "      <td>630</td>\n",
       "      <td>3</td>\n",
       "      <td>male</td>\n",
       "      <td>0</td>\n",
       "      <td>0.0</td>\n",
       "      <td>334912</td>\n",
       "      <td>F</td>\n",
       "      <td>1</td>\n",
       "      <td>1</td>\n",
       "      <td>1</td>\n",
       "    </tr>\n",
       "    <tr>\n",
       "      <th>1134</th>\n",
       "      <td>&lt;32</td>\n",
       "      <td>NaN</td>\n",
       "      <td>S</td>\n",
       "      <td>&lt;10.5</td>\n",
       "      <td>Hyman, Mr. Abraham</td>\n",
       "      <td>0</td>\n",
       "      <td>1135</td>\n",
       "      <td>3</td>\n",
       "      <td>male</td>\n",
       "      <td>0</td>\n",
       "      <td>NaN</td>\n",
       "      <td>3470</td>\n",
       "      <td>G</td>\n",
       "      <td>1</td>\n",
       "      <td>1</td>\n",
       "      <td>1</td>\n",
       "    </tr>\n",
       "    <tr>\n",
       "      <th>603</th>\n",
       "      <td>&lt;48</td>\n",
       "      <td>NaN</td>\n",
       "      <td>S</td>\n",
       "      <td>&lt;10.5</td>\n",
       "      <td>Torber, Mr. Ernst William</td>\n",
       "      <td>0</td>\n",
       "      <td>604</td>\n",
       "      <td>3</td>\n",
       "      <td>male</td>\n",
       "      <td>0</td>\n",
       "      <td>0.0</td>\n",
       "      <td>364511</td>\n",
       "      <td>G</td>\n",
       "      <td>1</td>\n",
       "      <td>1</td>\n",
       "      <td>1</td>\n",
       "    </tr>\n",
       "    <tr>\n",
       "      <th>1246</th>\n",
       "      <td>&lt;64</td>\n",
       "      <td>E60</td>\n",
       "      <td>S</td>\n",
       "      <td>&lt;41.5</td>\n",
       "      <td>Julian, Mr. Henry Forbes</td>\n",
       "      <td>0</td>\n",
       "      <td>1247</td>\n",
       "      <td>1</td>\n",
       "      <td>male</td>\n",
       "      <td>0</td>\n",
       "      <td>NaN</td>\n",
       "      <td>113044</td>\n",
       "      <td>E</td>\n",
       "      <td>1</td>\n",
       "      <td>1</td>\n",
       "      <td>1</td>\n",
       "    </tr>\n",
       "    <tr>\n",
       "      <th>935</th>\n",
       "      <td>&lt;48</td>\n",
       "      <td>D19</td>\n",
       "      <td>S</td>\n",
       "      <td>&lt;512.3</td>\n",
       "      <td>Kimball, Mrs. Edwin Nelson Jr (Gertrude Parsons)</td>\n",
       "      <td>0</td>\n",
       "      <td>936</td>\n",
       "      <td>1</td>\n",
       "      <td>female</td>\n",
       "      <td>1</td>\n",
       "      <td>NaN</td>\n",
       "      <td>11753</td>\n",
       "      <td>D</td>\n",
       "      <td>2</td>\n",
       "      <td>2</td>\n",
       "      <td>2</td>\n",
       "    </tr>\n",
       "  </tbody>\n",
       "</table>\n",
       "</div>"
      ],
      "text/plain": [
       "      Age Cabin Embarked    Fare  \\\n",
       "629   <32   NaN        Q    <7.8   \n",
       "1134  <32   NaN        S   <10.5   \n",
       "603   <48   NaN        S   <10.5   \n",
       "1246  <64   E60        S   <41.5   \n",
       "935   <48   D19        S  <512.3   \n",
       "\n",
       "                                                  Name  Parch  PassengerId  \\\n",
       "629                           O'Connell, Mr. Patrick D      0          630   \n",
       "1134                                Hyman, Mr. Abraham      0         1135   \n",
       "603                          Torber, Mr. Ernst William      0          604   \n",
       "1246                          Julian, Mr. Henry Forbes      0         1247   \n",
       "935   Kimball, Mrs. Edwin Nelson Jr (Gertrude Parsons)      0          936   \n",
       "\n",
       "      Pclass     Sex  SibSp  Survived  Ticket Deck  Family_size  \\\n",
       "629        3    male      0       0.0  334912    F            1   \n",
       "1134       3    male      0       NaN    3470    G            1   \n",
       "603        3    male      0       0.0  364511    G            1   \n",
       "1246       1    male      0       NaN  113044    E            1   \n",
       "935        1  female      1       NaN   11753    D            2   \n",
       "\n",
       "      Family_size_bin  Ticket_frequency  \n",
       "629                 1                 1  \n",
       "1134                1                 1  \n",
       "603                 1                 1  \n",
       "1246                1                 1  \n",
       "935                 2                 2  "
      ]
     },
     "execution_count": 70,
     "metadata": {},
     "output_type": "execute_result"
    }
   ],
   "source": [
    "###JHU\n",
    "\n",
    "df_all.sample(5)"
   ]
  },
  {
   "cell_type": "code",
   "execution_count": 71,
   "id": "advised-privilege",
   "metadata": {},
   "outputs": [
    {
     "name": "stdout",
     "output_type": "stream",
     "text": [
      "<class 'pandas.core.frame.DataFrame'>\n",
      "RangeIndex: 1309 entries, 0 to 1308\n",
      "Data columns (total 18 columns):\n",
      " #   Column            Non-Null Count  Dtype   \n",
      "---  ------            --------------  -----   \n",
      " 0   Age               1309 non-null   category\n",
      " 1   Cabin             295 non-null    object  \n",
      " 2   Embarked          1309 non-null   object  \n",
      " 3   Fare              1309 non-null   category\n",
      " 4   Name              1309 non-null   object  \n",
      " 5   Parch             1309 non-null   int64   \n",
      " 6   PassengerId       1309 non-null   int64   \n",
      " 7   Pclass            1309 non-null   int64   \n",
      " 8   Sex               1309 non-null   object  \n",
      " 9   SibSp             1309 non-null   int64   \n",
      " 10  Survived          891 non-null    float64 \n",
      " 11  Ticket            1309 non-null   object  \n",
      " 12  Deck              1309 non-null   object  \n",
      " 13  Family_size       1309 non-null   int64   \n",
      " 14  Family_size_bin   1309 non-null   int64   \n",
      " 15  Ticket_frequency  1309 non-null   int64   \n",
      " 16  Title             1309 non-null   object  \n",
      " 17  Is_married        1309 non-null   int64   \n",
      "dtypes: category(2), float64(1), int64(8), object(7)\n",
      "memory usage: 166.7+ KB\n"
     ]
    },
    {
     "name": "stderr",
     "output_type": "stream",
     "text": [
      "/home/marry/.local/lib/python3.8/site-packages/pandas/core/indexing.py:1636: SettingWithCopyWarning: \n",
      "A value is trying to be set on a copy of a slice from a DataFrame\n",
      "\n",
      "See the caveats in the documentation: https://pandas.pydata.org/pandas-docs/stable/user_guide/indexing.html#returning-a-view-versus-a-copy\n",
      "  self._setitem_single_block(indexer, value, name)\n"
     ]
    }
   ],
   "source": [
    "##########################################################################################################################   get the Mr out of whole string value\n",
    "\n",
    "df_all['Title']=df_all['Name'].str.split(', ',expand=True)[1].str.split('.',expand=True)[0]\n",
    "\n",
    "df_all['Is_married']=0\n",
    "df_all['Is_married'].loc[df_all['Title']=='Mrs']=1   ################################################################# we dont need this married or not feature\n",
    "\n",
    "df_all.info()"
   ]
  },
  {
   "cell_type": "code",
   "execution_count": 72,
   "id": "global-government",
   "metadata": {},
   "outputs": [
    {
     "data": {
      "text/plain": [
       "array(['Mr', 'Mrs', 'Miss', 'Master', 'Don', 'Rev', 'Dr', 'Mme', 'Ms',\n",
       "       'Major', 'Lady', 'Sir', 'Mlle', 'Col', 'Capt', 'the Countess',\n",
       "       'Jonkheer', 'Dona'], dtype=object)"
      ]
     },
     "execution_count": 72,
     "metadata": {},
     "output_type": "execute_result"
    }
   ],
   "source": [
    "###JHU\n",
    "\n",
    "df_all['Title'].unique()"
   ]
  },
  {
   "cell_type": "code",
   "execution_count": 73,
   "id": "chronic-exchange",
   "metadata": {},
   "outputs": [
    {
     "data": {
      "text/plain": [
       "Mr              757\n",
       "Miss            260\n",
       "Mrs             197\n",
       "Master           61\n",
       "Dr                8\n",
       "Rev               8\n",
       "Col               4\n",
       "Major             2\n",
       "Ms                2\n",
       "Mlle              2\n",
       "Capt              1\n",
       "Don               1\n",
       "Dona              1\n",
       "Mme               1\n",
       "Lady              1\n",
       "Jonkheer          1\n",
       "the Countess      1\n",
       "Sir               1\n",
       "Name: Title, dtype: int64"
      ]
     },
     "execution_count": 73,
     "metadata": {},
     "output_type": "execute_result"
    }
   ],
   "source": [
    "\n",
    "df_all['Title'].value_counts()"
   ]
  },
  {
   "cell_type": "code",
   "execution_count": 74,
   "id": "biblical-serial",
   "metadata": {},
   "outputs": [
    {
     "data": {
      "text/plain": [
       "Title\n",
       "Master     61\n",
       "Mice       34\n",
       "Miss      260\n",
       "Mr        757\n",
       "Mrs       197\n",
       "Name: Title, dtype: int64"
      ]
     },
     "execution_count": 74,
     "metadata": {},
     "output_type": "execute_result"
    }
   ],
   "source": [
    "########################################################################################################################################### true or false feedback ??????\n",
    "\n",
    "title_names=(df_all['Title'].value_counts()<10)\n",
    "\n",
    "df_all['Title']=df_all['Title'].apply(lambda x:'Mice' if title_names.loc[x]==True else x)\n",
    "\n",
    "df_all.groupby('Title')['Title'].count()"
   ]
  },
  {
   "cell_type": "code",
   "execution_count": 75,
   "id": "occupational-shanghai",
   "metadata": {},
   "outputs": [
    {
     "data": {
      "text/plain": [
       "<AxesSubplot:xlabel='Title'>"
      ]
     },
     "execution_count": 75,
     "metadata": {},
     "output_type": "execute_result"
    },
    {
     "data": {
      "image/png": "[encoded data removed]",
      "text/plain": [
       "<Figure size 432x288 with 1 Axes>"
      ]
     },
     "metadata": {
      "needs_background": "light"
     },
     "output_type": "display_data"
    }
   ],
   "source": [
    "###JHU\n",
    "df_all[['Title','Survived']].groupby('Title')['Survived'].mean().plot(kind='bar',alpha=0.4)\n",
    "\n",
    "#df_all.groupby('Title')['Survived'].mean().plot(kind='bar',alpha=0.4)"
   ]
  },
  {
   "cell_type": "code",
   "execution_count": 76,
   "id": "electoral-concert",
   "metadata": {},
   "outputs": [],
   "source": [
    "#### 3 Creat new features out of existing variables \n",
    "### Survival Rates\n"
   ]
  },
  {
   "cell_type": "code",
   "execution_count": 77,
   "id": "happy-maryland",
   "metadata": {},
   "outputs": [
    {
     "data": {
      "text/html": [
       "<div>\n",
       "<style scoped>\n",
       "    .dataframe tbody tr th:only-of-type {\n",
       "        vertical-align: middle;\n",
       "    }\n",
       "\n",
       "    .dataframe tbody tr th {\n",
       "        vertical-align: top;\n",
       "    }\n",
       "\n",
       "    .dataframe thead th {\n",
       "        text-align: right;\n",
       "    }\n",
       "</style>\n",
       "<table border=\"1\" class=\"dataframe\">\n",
       "  <thead>\n",
       "    <tr style=\"text-align: right;\">\n",
       "      <th></th>\n",
       "      <th>Age</th>\n",
       "      <th>Cabin</th>\n",
       "      <th>Embarked</th>\n",
       "      <th>Fare</th>\n",
       "      <th>Name</th>\n",
       "      <th>Parch</th>\n",
       "      <th>PassengerId</th>\n",
       "      <th>Pclass</th>\n",
       "      <th>Sex</th>\n",
       "      <th>SibSp</th>\n",
       "      <th>Survived</th>\n",
       "      <th>Ticket</th>\n",
       "      <th>Deck</th>\n",
       "      <th>Family_size</th>\n",
       "      <th>Family_size_bin</th>\n",
       "      <th>Ticket_frequency</th>\n",
       "      <th>Title</th>\n",
       "      <th>Is_married</th>\n",
       "    </tr>\n",
       "  </thead>\n",
       "  <tbody>\n",
       "    <tr>\n",
       "      <th>0</th>\n",
       "      <td>&lt;32</td>\n",
       "      <td>NaN</td>\n",
       "      <td>S</td>\n",
       "      <td>&lt;7.8</td>\n",
       "      <td>Braund, Mr. Owen Harris</td>\n",
       "      <td>0</td>\n",
       "      <td>1</td>\n",
       "      <td>3</td>\n",
       "      <td>male</td>\n",
       "      <td>1</td>\n",
       "      <td>0.0</td>\n",
       "      <td>A/5 21171</td>\n",
       "      <td>F</td>\n",
       "      <td>2</td>\n",
       "      <td>2</td>\n",
       "      <td>1</td>\n",
       "      <td>Mr</td>\n",
       "      <td>0</td>\n",
       "    </tr>\n",
       "    <tr>\n",
       "      <th>1</th>\n",
       "      <td>&lt;48</td>\n",
       "      <td>C85</td>\n",
       "      <td>C</td>\n",
       "      <td>&lt;512.3</td>\n",
       "      <td>Cumings, Mrs. John Bradley (Florence Briggs Th...</td>\n",
       "      <td>0</td>\n",
       "      <td>2</td>\n",
       "      <td>1</td>\n",
       "      <td>female</td>\n",
       "      <td>1</td>\n",
       "      <td>1.0</td>\n",
       "      <td>PC 17599</td>\n",
       "      <td>C</td>\n",
       "      <td>2</td>\n",
       "      <td>2</td>\n",
       "      <td>2</td>\n",
       "      <td>Mrs</td>\n",
       "      <td>1</td>\n",
       "    </tr>\n",
       "    <tr>\n",
       "      <th>2</th>\n",
       "      <td>&lt;32</td>\n",
       "      <td>NaN</td>\n",
       "      <td>S</td>\n",
       "      <td>&lt;10.5</td>\n",
       "      <td>Heikkinen, Miss. Laina</td>\n",
       "      <td>0</td>\n",
       "      <td>3</td>\n",
       "      <td>3</td>\n",
       "      <td>female</td>\n",
       "      <td>0</td>\n",
       "      <td>1.0</td>\n",
       "      <td>STON/O2. 3101282</td>\n",
       "      <td>G</td>\n",
       "      <td>1</td>\n",
       "      <td>1</td>\n",
       "      <td>1</td>\n",
       "      <td>Miss</td>\n",
       "      <td>0</td>\n",
       "    </tr>\n",
       "  </tbody>\n",
       "</table>\n",
       "</div>"
      ],
      "text/plain": [
       "   Age Cabin Embarked    Fare  \\\n",
       "0  <32   NaN        S    <7.8   \n",
       "1  <48   C85        C  <512.3   \n",
       "2  <32   NaN        S   <10.5   \n",
       "\n",
       "                                                Name  Parch  PassengerId  \\\n",
       "0                            Braund, Mr. Owen Harris      0            1   \n",
       "1  Cumings, Mrs. John Bradley (Florence Briggs Th...      0            2   \n",
       "2                             Heikkinen, Miss. Laina      0            3   \n",
       "\n",
       "   Pclass     Sex  SibSp  Survived            Ticket Deck  Family_size  \\\n",
       "0       3    male      1       0.0         A/5 21171    F            2   \n",
       "1       1  female      1       1.0          PC 17599    C            2   \n",
       "2       3  female      0       1.0  STON/O2. 3101282    G            1   \n",
       "\n",
       "   Family_size_bin  Ticket_frequency Title  Is_married  \n",
       "0                2                 1    Mr           0  \n",
       "1                2                 2   Mrs           1  \n",
       "2                1                 1  Miss           0  "
      ]
     },
     "execution_count": 77,
     "metadata": {},
     "output_type": "execute_result"
    }
   ],
   "source": [
    "\n",
    "df_all.head(3)"
   ]
  },
  {
   "cell_type": "code",
   "execution_count": 78,
   "id": "under-saturday",
   "metadata": {},
   "outputs": [],
   "source": [
    "import string\n",
    "\n",
    "def extract_surname(data):\n",
    "    families=[]\n",
    "    for i in range(len(data)):\n",
    "        name=data.iloc[i]\n",
    "        if '(' in name:\n",
    "            name_no_bracket=name.split('(')[0]\n",
    "        else:\n",
    "            name_no_bracket=name   # redundant code \n",
    "        family=name_no_bracket.split(',')[0]\n",
    "        #title=name_no_bracket.split(',')[1].strip().split(' ')[0]    #JHU not necessary code\n",
    "        #for c in string.punctuation:\n",
    "            #family=family.replace(c,'').strip()\n",
    "        families.append(family)\n",
    "    return families\n",
    "\n",
    "df_all['Family']=extract_surname(df_all['Name'])"
   ]
  },
  {
   "cell_type": "code",
   "execution_count": 79,
   "id": "fossil-paragraph",
   "metadata": {},
   "outputs": [
    {
     "data": {
      "text/plain": [
       "875"
      ]
     },
     "execution_count": 79,
     "metadata": {},
     "output_type": "execute_result"
    }
   ],
   "source": [
    "df_all['Family'].nunique()\n"
   ]
  },
  {
   "cell_type": "code",
   "execution_count": 80,
   "id": "steady-place",
   "metadata": {},
   "outputs": [
    {
     "data": {
      "text/plain": [
       "0       Braund\n",
       "1      Cumings\n",
       "2    Heikkinen\n",
       "3     Futrelle\n",
       "4        Allen\n",
       "Name: Family, dtype: object"
      ]
     },
     "execution_count": 80,
     "metadata": {},
     "output_type": "execute_result"
    }
   ],
   "source": [
    "df_all['Family'].head(5)"
   ]
  },
  {
   "cell_type": "code",
   "execution_count": 81,
   "id": "amber-activity",
   "metadata": {},
   "outputs": [
    {
     "data": {
      "text/html": [
       "<div>\n",
       "<style scoped>\n",
       "    .dataframe tbody tr th:only-of-type {\n",
       "        vertical-align: middle;\n",
       "    }\n",
       "\n",
       "    .dataframe tbody tr th {\n",
       "        vertical-align: top;\n",
       "    }\n",
       "\n",
       "    .dataframe thead th {\n",
       "        text-align: right;\n",
       "    }\n",
       "</style>\n",
       "<table border=\"1\" class=\"dataframe\">\n",
       "  <thead>\n",
       "    <tr style=\"text-align: right;\">\n",
       "      <th></th>\n",
       "      <th>Survived</th>\n",
       "      <th>Family_size</th>\n",
       "    </tr>\n",
       "    <tr>\n",
       "      <th>Title</th>\n",
       "      <th></th>\n",
       "      <th></th>\n",
       "    </tr>\n",
       "  </thead>\n",
       "  <tbody>\n",
       "    <tr>\n",
       "      <th>Master</th>\n",
       "      <td>0.575000</td>\n",
       "      <td>4.426230</td>\n",
       "    </tr>\n",
       "    <tr>\n",
       "      <th>Mice</th>\n",
       "      <td>0.444444</td>\n",
       "      <td>1.441176</td>\n",
       "    </tr>\n",
       "    <tr>\n",
       "      <th>Miss</th>\n",
       "      <td>0.697802</td>\n",
       "      <td>2.169231</td>\n",
       "    </tr>\n",
       "    <tr>\n",
       "      <th>Mr</th>\n",
       "      <td>0.156673</td>\n",
       "      <td>1.442536</td>\n",
       "    </tr>\n",
       "    <tr>\n",
       "      <th>Mrs</th>\n",
       "      <td>0.792000</td>\n",
       "      <td>2.492386</td>\n",
       "    </tr>\n",
       "  </tbody>\n",
       "</table>\n",
       "</div>"
      ],
      "text/plain": [
       "        Survived  Family_size\n",
       "Title                        \n",
       "Master  0.575000     4.426230\n",
       "Mice    0.444444     1.441176\n",
       "Miss    0.697802     2.169231\n",
       "Mr      0.156673     1.442536\n",
       "Mrs     0.792000     2.492386"
      ]
     },
     "execution_count": 81,
     "metadata": {},
     "output_type": "execute_result"
    }
   ],
   "source": [
    "df_all[['Title','Survived','Family_size']].groupby('Title').mean()\n",
    "\n",
    "###JHU THINK & PRACTICE"
   ]
  },
  {
   "cell_type": "code",
   "execution_count": 82,
   "id": "sorted-spectacular",
   "metadata": {},
   "outputs": [
    {
     "name": "stdout",
     "output_type": "stream",
     "text": [
      "Survival_rates_grouped_by_families_of_women_in_dataset:\n"
     ]
    },
    {
     "data": {
      "text/plain": [
       "<AxesSubplot:xlabel='Family_size'>"
      ]
     },
     "execution_count": 82,
     "metadata": {},
     "output_type": "execute_result"
    },
    {
     "data": {
      "image/png": "[encoded data removed]",
      "text/plain": [
       "<Figure size 432x288 with 1 Axes>"
      ]
     },
     "metadata": {
      "needs_background": "light"
     },
     "output_type": "display_data"
    }
   ],
   "source": [
    "print(\"Survival_rates_grouped_by_families_of_women_in_dataset:\")\n",
    "#df_all.loc[(df_all['Sex']=='female')&(df_all['Family_size']>1)].groupby('Family')['Survived'].mean().plot.hist(alpha=0.4)\n",
    "\n",
    "###################################################################################################################################################### less children ones survive\n",
    "df_all.loc[(df_all['Sex']=='female')&(df_all['Family_size']>1)].groupby('Family_size')['Survived'].mean().plot(kind='bar',alpha=0.4)\n",
    "\n",
    "#df.loc[(df['First_name'] != 'Bill') & (df['First_name'] != 'Emma'), 'name_match'] = 'Mismatch'     #'name_mach' is new named column\n",
    "\n",
    "#df_all[(df_all['Sex']=='female')&(df_all['Family_size']>1)].groupby('Family')['Survived'].mean().plot.hist(alpha=0.4)"
   ]
  },
  {
   "cell_type": "code",
   "execution_count": 83,
   "id": "magnetic-field",
   "metadata": {},
   "outputs": [
    {
     "data": {
      "text/plain": [
       "<AxesSubplot:xlabel='Family_size'>"
      ]
     },
     "execution_count": 83,
     "metadata": {},
     "output_type": "execute_result"
    },
    {
     "data": {
      "image/png": "[encoded data removed]",
      "text/plain": [
       "<Figure size 432x288 with 1 Axes>"
      ]
     },
     "metadata": {
      "needs_background": "light"
     },
     "output_type": "display_data"
    }
   ],
   "source": [
    "#\n",
    "master_families=df_all[df_all['Title']=='Master']['Family'].tolist()\n",
    "#df_all.loc[df_all['Family'].isin(master_families)].groupby('Family_size')['Survived'].mean().plot.hist(alpha=0.4)\n",
    "\n",
    "############################################################################################################################################# pointless Master family  drop\n",
    "df_all.loc[(df_all['Title']=='Master')].groupby('Family_size')['Survived'].mean().plot(kind='bar',alpha=0.4)"
   ]
  },
  {
   "cell_type": "code",
   "execution_count": 84,
   "id": "consistent-raleigh",
   "metadata": {},
   "outputs": [
    {
     "data": {
      "text/html": [
       "<div>\n",
       "<style scoped>\n",
       "    .dataframe tbody tr th:only-of-type {\n",
       "        vertical-align: middle;\n",
       "    }\n",
       "\n",
       "    .dataframe tbody tr th {\n",
       "        vertical-align: top;\n",
       "    }\n",
       "\n",
       "    .dataframe thead th {\n",
       "        text-align: right;\n",
       "    }\n",
       "</style>\n",
       "<table border=\"1\" class=\"dataframe\">\n",
       "  <thead>\n",
       "    <tr style=\"text-align: right;\">\n",
       "      <th></th>\n",
       "      <th>Age</th>\n",
       "      <th>Cabin</th>\n",
       "      <th>Embarked</th>\n",
       "      <th>Fare</th>\n",
       "      <th>Name</th>\n",
       "      <th>Parch</th>\n",
       "      <th>PassengerId</th>\n",
       "      <th>Pclass</th>\n",
       "      <th>Sex</th>\n",
       "      <th>SibSp</th>\n",
       "      <th>Survived</th>\n",
       "      <th>Ticket</th>\n",
       "      <th>Deck</th>\n",
       "      <th>Family_size</th>\n",
       "      <th>Family_size_bin</th>\n",
       "      <th>Ticket_frequency</th>\n",
       "      <th>Title</th>\n",
       "      <th>Is_married</th>\n",
       "      <th>Family</th>\n",
       "    </tr>\n",
       "  </thead>\n",
       "  <tbody>\n",
       "    <tr>\n",
       "      <th>0</th>\n",
       "      <td>&lt;32</td>\n",
       "      <td>NaN</td>\n",
       "      <td>S</td>\n",
       "      <td>&lt;7.8</td>\n",
       "      <td>Braund, Mr. Owen Harris</td>\n",
       "      <td>0</td>\n",
       "      <td>1</td>\n",
       "      <td>3</td>\n",
       "      <td>male</td>\n",
       "      <td>1</td>\n",
       "      <td>0.0</td>\n",
       "      <td>A/5 21171</td>\n",
       "      <td>F</td>\n",
       "      <td>2</td>\n",
       "      <td>2</td>\n",
       "      <td>1</td>\n",
       "      <td>Mr</td>\n",
       "      <td>0</td>\n",
       "      <td>Braund</td>\n",
       "    </tr>\n",
       "  </tbody>\n",
       "</table>\n",
       "</div>"
      ],
      "text/plain": [
       "   Age Cabin Embarked  Fare                     Name  Parch  PassengerId  \\\n",
       "0  <32   NaN        S  <7.8  Braund, Mr. Owen Harris      0            1   \n",
       "\n",
       "   Pclass   Sex  SibSp  Survived     Ticket Deck  Family_size  \\\n",
       "0       3  male      1       0.0  A/5 21171    F            2   \n",
       "\n",
       "   Family_size_bin  Ticket_frequency Title  Is_married  Family  \n",
       "0                2                 1    Mr           0  Braund  "
      ]
     },
     "execution_count": 84,
     "metadata": {},
     "output_type": "execute_result"
    }
   ],
   "source": [
    "\n",
    "df_all.head(1)"
   ]
  },
  {
   "cell_type": "code",
   "execution_count": 85,
   "id": "overall-cowboy",
   "metadata": {},
   "outputs": [],
   "source": [
    "#Create variables with the survival rate of the women and masters\n",
    "\n",
    "############################################################################################################################################ borrowed below\n",
    "women_rate=df_all.loc[(df_all['Sex']=='female')&(df_all['Family_size']>1)].groupby('Family')['Survived'].mean()\n",
    "#\n",
    "#master_rate=df_all.loc[df_all['Family'].isin(master_families)].groupby('Family')['Survived'].mean()     ###JHU we should remove column 7 and to use it seperately if we insist \n",
    "\n",
    "#Combine two series\n",
    "#combined_rate=women_rate.append(master_rate)\n",
    "\n",
    "#It is posible that a woman has the family as a master and vice versa, so duplicates have to been dropped\n",
    "#combined_rate_df=combined_rate.to_frame().reset_index().rename(columns={'Survived':'Survival_quota'}).drop_duplicates(subset='Family')\n",
    "#\n",
    "combined_rate_df=women_rate.to_frame().reset_index().rename(columns={'Survived':'Survival_quota'}).drop_duplicates(subset='Family')      ###################?????????????  \n",
    "\n",
    "\n",
    "#Merge the new dataframe\n",
    "df_all=pd.merge(df_all,combined_rate_df,how='left')     ###################?????????????    or not use women rate too???"
   ]
  },
  {
   "cell_type": "code",
   "execution_count": 86,
   "id": "armed-walnut",
   "metadata": {},
   "outputs": [],
   "source": [
    "#########################################################################################################################################################\n",
    "#JHU use mother_rate no other master mother or something        my poor code capability.........\n",
    "\n",
    "#mother_rate_1=df_all.loc[(df_all['Sex']=='female')&(df_all['Family_size']>1)&(df_all['Family_size']<=4)].groupby('Family')['Survived'].mean()\n",
    "#mother_rate_2=df_all.loc[(df_all['Sex']=='female')&(df_all['Family_size']>4)&(df_all['Family_size']<=7)].groupby('Family')['Survived'].mean()\n",
    "#mother_rate_3=df_all.loc[(df_all['Sex']=='female')&(df_all['Family_size']>7)].groupby('Family')['Survived'].mean()\n",
    "\n",
    "#df_all=pd.merge(df_all,mother_rate_1,mother_rate_2,mother_rate_3,how='left')\n"
   ]
  },
  {
   "cell_type": "code",
   "execution_count": 87,
   "id": "liable-commission",
   "metadata": {},
   "outputs": [
    {
     "data": {
      "text/html": [
       "<div>\n",
       "<style scoped>\n",
       "    .dataframe tbody tr th:only-of-type {\n",
       "        vertical-align: middle;\n",
       "    }\n",
       "\n",
       "    .dataframe tbody tr th {\n",
       "        vertical-align: top;\n",
       "    }\n",
       "\n",
       "    .dataframe thead th {\n",
       "        text-align: right;\n",
       "    }\n",
       "</style>\n",
       "<table border=\"1\" class=\"dataframe\">\n",
       "  <thead>\n",
       "    <tr style=\"text-align: right;\">\n",
       "      <th></th>\n",
       "      <th>Age</th>\n",
       "      <th>Cabin</th>\n",
       "      <th>Embarked</th>\n",
       "      <th>Fare</th>\n",
       "      <th>Name</th>\n",
       "      <th>Parch</th>\n",
       "      <th>PassengerId</th>\n",
       "      <th>Pclass</th>\n",
       "      <th>Sex</th>\n",
       "      <th>SibSp</th>\n",
       "      <th>Survived</th>\n",
       "      <th>Ticket</th>\n",
       "      <th>Deck</th>\n",
       "      <th>Family_size</th>\n",
       "      <th>Family_size_bin</th>\n",
       "      <th>Ticket_frequency</th>\n",
       "      <th>Title</th>\n",
       "      <th>Is_married</th>\n",
       "      <th>Family</th>\n",
       "      <th>Survival_quota</th>\n",
       "    </tr>\n",
       "  </thead>\n",
       "  <tbody>\n",
       "    <tr>\n",
       "      <th>0</th>\n",
       "      <td>&lt;32</td>\n",
       "      <td>NaN</td>\n",
       "      <td>S</td>\n",
       "      <td>&lt;7.8</td>\n",
       "      <td>Braund, Mr. Owen Harris</td>\n",
       "      <td>0</td>\n",
       "      <td>1</td>\n",
       "      <td>3</td>\n",
       "      <td>male</td>\n",
       "      <td>1</td>\n",
       "      <td>0.0</td>\n",
       "      <td>A/5 21171</td>\n",
       "      <td>F</td>\n",
       "      <td>2</td>\n",
       "      <td>2</td>\n",
       "      <td>1</td>\n",
       "      <td>Mr</td>\n",
       "      <td>0</td>\n",
       "      <td>Braund</td>\n",
       "      <td>NaN</td>\n",
       "    </tr>\n",
       "  </tbody>\n",
       "</table>\n",
       "</div>"
      ],
      "text/plain": [
       "   Age Cabin Embarked  Fare                     Name  Parch  PassengerId  \\\n",
       "0  <32   NaN        S  <7.8  Braund, Mr. Owen Harris      0            1   \n",
       "\n",
       "   Pclass   Sex  SibSp  Survived     Ticket Deck  Family_size  \\\n",
       "0       3  male      1       0.0  A/5 21171    F            2   \n",
       "\n",
       "   Family_size_bin  Ticket_frequency Title  Is_married  Family  Survival_quota  \n",
       "0                2                 1    Mr           0  Braund             NaN  "
      ]
     },
     "execution_count": 87,
     "metadata": {},
     "output_type": "execute_result"
    }
   ],
   "source": [
    "df_all_1=pd.merge(df_all,women_rate,how='left')\n",
    "df_all.head(1)\n"
   ]
  },
  {
   "cell_type": "code",
   "execution_count": 88,
   "id": "excellent-albania",
   "metadata": {},
   "outputs": [],
   "source": [
    "#We have calculated a survival rate for only a part of the cases, the others \n",
    "#we set to 0 in the dummy variable\n",
    "\n",
    "df_all['Survival_quota_NA']=1\n",
    "df_all.loc[df_all['Survival_quota'].isnull(),'Survival_quota_NA']=0\n",
    "df_all['Survival_quota']=df_all['Survival_quota'].fillna(0)"
   ]
  },
  {
   "cell_type": "code",
   "execution_count": 89,
   "id": "dangerous-wrestling",
   "metadata": {},
   "outputs": [],
   "source": [
    "#### 3.3 Label and One Hot Encoding\n"
   ]
  },
  {
   "cell_type": "code",
   "execution_count": 90,
   "id": "broad-pharmacy",
   "metadata": {},
   "outputs": [
    {
     "name": "stdout",
     "output_type": "stream",
     "text": [
      "   Age Cabin Embarked    Fare  \\\n",
      "0  <32   NaN        S    <7.8   \n",
      "1  <48   C85        C  <512.3   \n",
      "2  <32   NaN        S   <10.5   \n",
      "3  <48  C123        S  <512.3   \n",
      "4  <48   NaN        S   <10.5   \n",
      "\n",
      "                                                Name  Parch  PassengerId  \\\n",
      "0                            Braund, Mr. Owen Harris      0            1   \n",
      "1  Cumings, Mrs. John Bradley (Florence Briggs Th...      0            2   \n",
      "2                             Heikkinen, Miss. Laina      0            3   \n",
      "3       Futrelle, Mrs. Jacques Heath (Lily May Peel)      0            4   \n",
      "4                           Allen, Mr. William Henry      0            5   \n",
      "\n",
      "   Pclass     Sex  SibSp  ...            Ticket Deck Family_size  \\\n",
      "0       3    male      1  ...         A/5 21171    F           2   \n",
      "1       1  female      1  ...          PC 17599    C           2   \n",
      "2       3  female      0  ...  STON/O2. 3101282    G           1   \n",
      "3       1  female      1  ...            113803    C           2   \n",
      "4       3    male      0  ...            373450    G           1   \n",
      "\n",
      "   Family_size_bin  Ticket_frequency  Title Is_married     Family  \\\n",
      "0                2                 1     Mr          0     Braund   \n",
      "1                2                 2    Mrs          1    Cumings   \n",
      "2                1                 1   Miss          0  Heikkinen   \n",
      "3                2                 2    Mrs          1   Futrelle   \n",
      "4                1                 1     Mr          0      Allen   \n",
      "\n",
      "  Survival_quota  Survival_quota_NA  \n",
      "0            0.0                  0  \n",
      "1            1.0                  1  \n",
      "2            0.0                  0  \n",
      "3            1.0                  1  \n",
      "4            0.0                  0  \n",
      "\n",
      "[5 rows x 21 columns]\n"
     ]
    }
   ],
   "source": [
    "print(df_all.head())"
   ]
  },
  {
   "cell_type": "code",
   "execution_count": 91,
   "id": "exclusive-assignment",
   "metadata": {},
   "outputs": [],
   "source": [
    "from sklearn import preprocessing\n",
    "\n",
    "non_numeric_features=['Embarked','Sex','Title','Age','Fare','Deck']\n",
    "\n",
    "for feature in non_numeric_features:\n",
    "    df_all[feature]=preprocessing.LabelEncoder().fit_transform(df_all[feature])\n",
    "    \n",
    "\n",
    "cat_features=['Pclass','Sex','Embarked','Title','Deck','Family_size_bin','Age','Fare'] ############################################################3\n",
    "    \n",
    "encoded_features=[]\n",
    "\n",
    "for feature in cat_features:\n",
    "    encoded_feat=preprocessing.OneHotEncoder().fit_transform(df_all[feature].values.reshape(-1,1)).toarray()\n",
    "    n=df_all[feature].nunique()\n",
    "    cols=['{}_{}'.format(feature,n) for n in range(1,n+1)]\n",
    "    encoded_df=pd.DataFrame(encoded_feat,columns=cols)\n",
    "    encoded_df.index=df_all.index\n",
    "    encoded_features.append(encoded_df)\n",
    "\n",
    "df_all=pd.concat([df_all,*encoded_features],axis=1)"
   ]
  },
  {
   "cell_type": "code",
   "execution_count": 92,
   "id": "affiliated-arrangement",
   "metadata": {},
   "outputs": [
    {
     "name": "stdout",
     "output_type": "stream",
     "text": [
      "   Age Cabin  Embarked  Fare  \\\n",
      "0    1   NaN         2     4   \n",
      "1    2   C85         0     3   \n",
      "2    1   NaN         2     0   \n",
      "3    2  C123         2     3   \n",
      "4    2   NaN         2     0   \n",
      "\n",
      "                                                Name  Parch  PassengerId  \\\n",
      "0                            Braund, Mr. Owen Harris      0            1   \n",
      "1  Cumings, Mrs. John Bradley (Florence Briggs Th...      0            2   \n",
      "2                             Heikkinen, Miss. Laina      0            3   \n",
      "3       Futrelle, Mrs. Jacques Heath (Lily May Peel)      0            4   \n",
      "4                           Allen, Mr. William Henry      0            5   \n",
      "\n",
      "   Pclass  Sex  SibSp  ...  Age_1 Age_2  Age_3  Age_4  Age_5  Fare_1  Fare_2  \\\n",
      "0       3    1      1  ...    0.0   1.0    0.0    0.0    0.0     0.0     0.0   \n",
      "1       1    0      1  ...    0.0   0.0    1.0    0.0    0.0     0.0     0.0   \n",
      "2       3    0      0  ...    0.0   1.0    0.0    0.0    0.0     1.0     0.0   \n",
      "3       1    0      1  ...    0.0   0.0    1.0    0.0    0.0     0.0     0.0   \n",
      "4       3    1      0  ...    0.0   0.0    1.0    0.0    0.0     1.0     0.0   \n",
      "\n",
      "   Fare_3 Fare_4  Fare_5  \n",
      "0     0.0    0.0     1.0  \n",
      "1     0.0    1.0     0.0  \n",
      "2     0.0    0.0     0.0  \n",
      "3     0.0    1.0     0.0  \n",
      "4     0.0    0.0     0.0  \n",
      "\n",
      "[5 rows x 56 columns]\n"
     ]
    }
   ],
   "source": [
    "print(df_all.head())"
   ]
  },
  {
   "cell_type": "code",
   "execution_count": 93,
   "id": "breeding-namibia",
   "metadata": {},
   "outputs": [],
   "source": [
    "df_train,df_test=divide_df(df_all)"
   ]
  },
  {
   "cell_type": "code",
   "execution_count": 94,
   "id": "concerned-kansas",
   "metadata": {},
   "outputs": [],
   "source": [
    "#Defined columns which can be dropped for the modeling part because we \n",
    "#created new lable and one hot encoded variants out of them\n",
    "\n",
    "drop_cols=['Embarked','Family','Survived','Family_size','Family_size_bin',\n",
    "           'Deck','Age','Name','Parch','PassengerId','Pclass','Sex','SibSp',\n",
    "           'Title','Ticket','Cabin']\n",
    "\n",
    "drop_cols_2=['Embarked','Family','Family_size','Family_size_bin','Deck','Fare',\n",
    "            'Name','Parch','PassengerId','Pclass','Sex','SibSp','Title',\n",
    "             'Ticket','Cabin']"
   ]
  },
  {
   "cell_type": "code",
   "execution_count": 95,
   "id": "empirical-fever",
   "metadata": {},
   "outputs": [
    {
     "name": "stderr",
     "output_type": "stream",
     "text": [
      "[Parallel(n_jobs=-1)]: Using backend ThreadingBackend with 3 concurrent workers.\n",
      "[Parallel(n_jobs=-1)]: Done  44 tasks      | elapsed:    0.1s\n",
      "[Parallel(n_jobs=-1)]: Done 194 tasks      | elapsed:    0.5s\n",
      "[Parallel(n_jobs=-1)]: Done 444 tasks      | elapsed:    1.2s\n",
      "[Parallel(n_jobs=-1)]: Done 794 tasks      | elapsed:    1.9s\n",
      "[Parallel(n_jobs=-1)]: Done 1244 tasks      | elapsed:    2.9s\n",
      "[Parallel(n_jobs=-1)]: Done 1750 out of 1750 | elapsed:    4.0s finished\n",
      "[Parallel(n_jobs=3)]: Using backend ThreadingBackend with 3 concurrent workers.\n",
      "[Parallel(n_jobs=3)]: Done  44 tasks      | elapsed:    0.0s\n",
      "[Parallel(n_jobs=3)]: Done 194 tasks      | elapsed:    0.1s\n",
      "[Parallel(n_jobs=3)]: Done 444 tasks      | elapsed:    0.2s\n",
      "[Parallel(n_jobs=3)]: Done 794 tasks      | elapsed:    0.3s\n",
      "[Parallel(n_jobs=3)]: Done 1244 tasks      | elapsed:    0.4s\n",
      "[Parallel(n_jobs=3)]: Done 1750 out of 1750 | elapsed:    0.5s finished\n",
      "[Parallel(n_jobs=3)]: Using backend ThreadingBackend with 3 concurrent workers.\n",
      "[Parallel(n_jobs=3)]: Done  44 tasks      | elapsed:    0.0s\n",
      "[Parallel(n_jobs=3)]: Done 194 tasks      | elapsed:    0.0s\n",
      "[Parallel(n_jobs=3)]: Done 444 tasks      | elapsed:    0.1s\n",
      "[Parallel(n_jobs=3)]: Done 794 tasks      | elapsed:    0.2s\n"
     ]
    },
    {
     "name": "stdout",
     "output_type": "stream",
     "text": [
      "0.8654708520179372\n"
     ]
    },
    {
     "name": "stderr",
     "output_type": "stream",
     "text": [
      "[Parallel(n_jobs=3)]: Done 1244 tasks      | elapsed:    0.2s\n",
      "[Parallel(n_jobs=3)]: Done 1750 out of 1750 | elapsed:    0.3s finished\n"
     ]
    }
   ],
   "source": [
    "#setting up a random forest classifier\n",
    "#standardization of variables\n",
    "\n",
    "from sklearn.model_selection import train_test_split\n",
    "from sklearn.ensemble import RandomForestClassifier\n",
    "###JHU from sklearn.preprocessing import StandardScaler\n",
    "\n",
    "x=preprocessing.StandardScaler().fit_transform(df_train.drop(columns=drop_cols))    ###################\n",
    "y=df_train['Survived'].values\n",
    "\n",
    "x_test=preprocessing.StandardScaler().fit_transform(df_test.drop(columns=drop_cols_2))\n",
    "\n",
    "#creating train, test splits\n",
    "x_train,x_test1,y_train,y_test1=train_test_split(x,y,test_size=0.25,random_state=42)\n",
    "\n",
    "#defining model parameters\n",
    "model=RandomForestClassifier(criterion='gini',\n",
    "                                          n_estimators=1750,\n",
    "                                          max_depth=7,\n",
    "                                          min_samples_split=6,\n",
    "                                          min_samples_leaf=6,\n",
    "                                          max_features=\"auto\",\n",
    "                                          oob_score=True,\n",
    "                                          random_state=42,\n",
    "                                          n_jobs=-1,\n",
    "                                          verbose=1)\n",
    "\n",
    "model.fit(x_train,y_train)\n",
    "predictions=model.predict(x_test)\n",
    "#print(model.score(x_test1,y_test1))\n",
    "output=pd.DataFrame({'PassengerId':test_data.PassengerId,'Survived':predictions})\n",
    "output['Survived']=output['Survived'].astype(int)\n",
    "output.to_csv('2020_00_09_titanic_jjj.csv',index=False)\n",
    "print(model.score(x_test1,y_test1))"
   ]
  },
  {
   "cell_type": "code",
   "execution_count": null,
   "id": "medium-functionality",
   "metadata": {},
   "outputs": [],
   "source": []
  }
 ],
 "metadata": {
  "kernelspec": {
   "display_name": "Python 3",
   "language": "python",
   "name": "python3"
  },
  "language_info": {
   "codemirror_mode": {
    "name": "ipython",
    "version": 3
   },
   "file_extension": ".py",
   "mimetype": "text/x-python",
   "name": "python",
   "nbconvert_exporter": "python",
   "pygments_lexer": "ipython3",
   "version": "3.8.5"
  }
 },
 "nbformat": 4,
 "nbformat_minor": 5
}
